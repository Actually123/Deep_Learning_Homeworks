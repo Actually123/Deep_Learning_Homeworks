{
 "cells": [
  {
   "cell_type": "markdown",
   "id": "ae967de1",
   "metadata": {},
   "source": [
    "# 利用多层全连接神经网络及简单卷积神经网络对MNIST数据集分类"
   ]
  },
  {
   "cell_type": "markdown",
   "id": "f7b5561b",
   "metadata": {},
   "source": [
    "导入相关包"
   ]
  },
  {
   "cell_type": "code",
   "execution_count": 1,
   "id": "0b4f1c80",
   "metadata": {},
   "outputs": [],
   "source": [
    "import torch\n",
    "import torchvision as tv\n",
    "import torchvision.transforms as transforms\n",
    "import torch.nn as nn"
   ]
  },
  {
   "cell_type": "markdown",
   "id": "af5664d7",
   "metadata": {},
   "source": [
    "定义是否使用GPU"
   ]
  },
  {
   "cell_type": "code",
   "execution_count": 2,
   "id": "0c5ac741",
   "metadata": {},
   "outputs": [],
   "source": [
    "device = torch.device(\"cuda\" if torch.cuda.is_available() else \"cpu\")"
   ]
  },
  {
   "cell_type": "markdown",
   "id": "f2461423",
   "metadata": {},
   "source": [
    "定义多层全连接神经网络"
   ]
  },
  {
   "cell_type": "code",
   "execution_count": 3,
   "id": "8ac2f91f",
   "metadata": {},
   "outputs": [],
   "source": [
    "class multlayer_network(nn.Module):\n",
    "    '''\n",
    "        全连接神经网络\n",
    "    '''\n",
    "    def __init__(self):\n",
    "        # 调用父类的构造函数\n",
    "        super(multlayer_network, self).__init__()\n",
    "        \n",
    "        # 构造全连接神经网络\n",
    "        self.net = nn.Sequential(\n",
    "            nn.Linear(16*5*5, 120),\n",
    "            nn.ReLU(),\n",
    "            nn.Linear(120, 84),\n",
    "            nn.ReLU(),\n",
    "            nn.Linear(84, 10)\n",
    "        )\n",
    "        \n",
    "    def forward(self, tmp):\n",
    "        return self.net(tmp)"
   ]
  },
  {
   "cell_type": "markdown",
   "id": "89a0d5c3",
   "metadata": {},
   "source": [
    "定义LeNet神经网络"
   ]
  },
  {
   "cell_type": "code",
   "execution_count": 4,
   "id": "52772e92",
   "metadata": {},
   "outputs": [],
   "source": [
    "class LeNet(nn.Module):\n",
    "    '''\n",
    "        LeNet神经网络\n",
    "    '''\n",
    "    def __init__(self):\n",
    "        # 调用父类的构造函数\n",
    "        super(LeNet, self).__init__()\n",
    "        \n",
    "        # 卷积层块\n",
    "        self.cp1 = nn.Sequential(\n",
    "            nn.Conv2d(1, 6, kernel_size=5, padding=2), # 卷积层,保持形状不变\n",
    "            nn.ReLU(), # 激活函数\n",
    "            nn.MaxPool2d(kernel_size=2, stride=2) # 池化层,形状变为(6*14*14)\n",
    "        )\n",
    "        self.cp2 = nn.Sequential(\n",
    "            nn.Conv2d(6, 16, kernel_size=5), # 卷积层,形状变为(16*10*10)\n",
    "            nn.ReLU(), # 激活函数\n",
    "            nn.MaxPool2d(kernel_size=2, stride=2) # 池化层,形状变为(16*5*5)\n",
    "        )\n",
    "        \n",
    "        # 全连接层块\n",
    "        self.mult = multlayer_network()\n",
    "    \n",
    "    def forward(self, tmp):\n",
    "        # 卷积层块\n",
    "        tmp = self.cp1(tmp)\n",
    "        tmp = self.cp2(tmp)\n",
    "        \n",
    "        # 全连接层块\n",
    "        tmp = tmp.view(tmp.size(0), -1)\n",
    "        tmp = self.mult(tmp)\n",
    "        return tmp"
   ]
  },
  {
   "cell_type": "markdown",
   "id": "9fe46874",
   "metadata": {},
   "source": [
    "超参数设置"
   ]
  },
  {
   "cell_type": "code",
   "execution_count": 5,
   "id": "8ad16d05",
   "metadata": {},
   "outputs": [],
   "source": [
    "EPOCH = 10  # 遍历数据集次数\n",
    "BATCH_SIZE = 64  # 批处理尺寸(batch_size)\n",
    "LR = 0.01  # 学习率"
   ]
  },
  {
   "cell_type": "markdown",
   "id": "3c758043",
   "metadata": {},
   "source": [
    "定义数据预处理方式"
   ]
  },
  {
   "cell_type": "code",
   "execution_count": 6,
   "id": "92d4d735",
   "metadata": {},
   "outputs": [],
   "source": [
    "transform = transforms.ToTensor()\n",
    "trainset = tv.datasets.MNIST(\n",
    "    root='/data/',\n",
    "    train=True,\n",
    "    download=True,\n",
    "    transform=transform)\n",
    "\n",
    "# 定义训练批处理数据\n",
    "trainloader = torch.utils.data.DataLoader(\n",
    "    trainset,\n",
    "    batch_size=BATCH_SIZE,\n",
    "    shuffle=True,\n",
    "    )\n",
    "\n",
    "# 定义测试数据集\n",
    "testset = tv.datasets.MNIST(\n",
    "    root='/data/',\n",
    "    train=False,\n",
    "    download=True,\n",
    "    transform=transform)\n",
    "\n",
    "# 定义测试批处理数据\n",
    "testloader = torch.utils.data.DataLoader(\n",
    "    testset,\n",
    "    batch_size=BATCH_SIZE,\n",
    "    shuffle=False,\n",
    "    )"
   ]
  },
  {
   "cell_type": "markdown",
   "id": "fdbb201e",
   "metadata": {},
   "source": [
    "实例化网络，如有GPU，将模型加载至GPU运算"
   ]
  },
  {
   "cell_type": "code",
   "execution_count": 7,
   "id": "0c30cbcd",
   "metadata": {},
   "outputs": [],
   "source": [
    "net = LeNet().to(device)"
   ]
  },
  {
   "cell_type": "markdown",
   "id": "2317a5c1",
   "metadata": {},
   "source": [
    "定义损失函数和优化方式，尝试SGD、Adam等优化器，尝试运用权重衰减"
   ]
  },
  {
   "cell_type": "code",
   "execution_count": 8,
   "id": "e24d78b1",
   "metadata": {},
   "outputs": [],
   "source": [
    "# 使用交叉熵损失函数\n",
    "criterion = nn.CrossEntropyLoss()\n",
    "\n",
    "# 设置优化器\n",
    "optimizer = torch.optim.SGD(net.parameters(), lr=LR)"
   ]
  },
  {
   "cell_type": "markdown",
   "id": "6b656e4f",
   "metadata": {},
   "source": [
    "模型训练及测试"
   ]
  },
  {
   "cell_type": "code",
   "execution_count": 9,
   "id": "c6b5eb8a",
   "metadata": {
    "scrolled": true
   },
   "outputs": [
    {
     "name": "stdout",
     "output_type": "stream",
     "text": [
      "第1轮 loss: 17.8064\n",
      "第1轮的识别准确率为：77.52%\n",
      "第2轮 loss: 3.4724\n",
      "第2轮的识别准确率为：91.66%\n",
      "第3轮 loss: 2.0347\n",
      "第3轮的识别准确率为：94.49%\n",
      "第4轮 loss: 1.4862\n",
      "第4轮的识别准确率为：96.14%\n",
      "第5轮 loss: 1.1874\n",
      "第5轮的识别准确率为：96.63%\n",
      "第6轮 loss: 0.9977\n",
      "第6轮的识别准确率为：97.35%\n",
      "第7轮 loss: 0.8735\n",
      "第7轮的识别准确率为：97.59%\n",
      "第8轮 loss: 0.7771\n",
      "第8轮的识别准确率为：97.24%\n",
      "第9轮 loss: 0.7101\n",
      "第9轮的识别准确率为：98.02%\n",
      "第10轮 loss: 0.6472\n",
      "第10轮的识别准确率为：97.73%\n"
     ]
    }
   ],
   "source": [
    "for epoch in range(EPOCH):\n",
    "    '''\n",
    "        完成训练过程。如有GPU，将数据加载至GPU运算\n",
    "    '''\n",
    "    sum_loss = 0\n",
    "    # 数据读取\n",
    "    for i, data in enumerate(trainloader):\n",
    "        inputs, labels = data\n",
    "        inputs, labels = inputs.to(device), labels.to(device)\n",
    "        \n",
    "        # 梯度清零\n",
    "        optimizer.zero_grad()\n",
    "        \n",
    "        # 前馈并反向传播更新网络参数\n",
    "        outputs = net(inputs)\n",
    "        loss = criterion(outputs, labels)\n",
    "        loss.backward()\n",
    "        optimizer.step()\n",
    "        \n",
    "        sum_loss += loss.item()\n",
    "\n",
    "    print('第{0}轮 loss: {1:.4f}'.format(epoch+1, sum_loss/100))\n",
    "    \n",
    "    net.eval() # 进入评估模式\n",
    "    \n",
    "    # 每跑完一次epoch测试一下准确率\n",
    "    with torch.no_grad():\n",
    "        '''\n",
    "           完成测试过程，输出最优测试集准确率\n",
    "        '''\n",
    "        total = 0\n",
    "        right_pred = 0\n",
    "        \n",
    "        for data in testloader:\n",
    "            images, labels = data\n",
    "            images, labels = images.to(device), labels.to(device)\n",
    "            outputs = net(images)\n",
    "            _, pred = torch.max(outputs.data, 1)\n",
    "            total += labels.size(0)\n",
    "            right_pred += (pred == labels).sum() \n",
    "            acc = 100 * right_pred / total\n",
    "        print('第{0}轮的识别准确率为：{1:.2f}%'.format(epoch+1, acc))"
   ]
  }
 ],
 "metadata": {
  "kernelspec": {
   "display_name": "Python 3",
   "language": "python",
   "name": "python3"
  },
  "language_info": {
   "codemirror_mode": {
    "name": "ipython",
    "version": 3
   },
   "file_extension": ".py",
   "mimetype": "text/x-python",
   "name": "python",
   "nbconvert_exporter": "python",
   "pygments_lexer": "ipython3",
   "version": "3.8.8"
  }
 },
 "nbformat": 4,
 "nbformat_minor": 5
}
