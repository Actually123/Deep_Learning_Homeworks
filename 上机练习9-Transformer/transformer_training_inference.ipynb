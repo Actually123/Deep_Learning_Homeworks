{
 "cells": [
  {
   "cell_type": "markdown",
   "metadata": {
    "pycharm": {
     "name": "#%% md\n"
    }
   },
   "source": [
    "# 实现Transformer 的学习、推测及判定依据的可视化\n",
    "\n",
    "将从 IMDb 的 DataLoader 中读取数据，然后通过实现的 Transformer 模型进行学习，对电影的评论文章（英文）中的评价内容是属于正面评价还是负面评价进行判定处理。此外，本节还将在判定时是根据哪个单词进行判断的依据，Self-Attention 实现可视化处理。"
   ]
  },
  {
   "cell_type": "markdown",
   "metadata": {
    "pycharm": {
     "name": "#%% md\n"
    }
   },
   "source": [
    "#  学习目标\n",
    "\n",
    "1.\t掌握编程实现 Transformer 的学习的方法\n",
    "2.\t掌握对 Transformer 进行判定时的 Attention 进行可视化处理的方法。\n"
   ]
  },
  {
   "cell_type": "markdown",
   "metadata": {
    "pycharm": {
     "name": "#%% md\n"
    }
   },
   "source": [
    "# 事前准备\n",
    "\n",
    "·使用文件夹“utils”中的函数或类"
   ]
  },
  {
   "cell_type": "code",
   "execution_count": 1,
   "metadata": {
    "pycharm": {
     "name": "#%%\n"
    }
   },
   "outputs": [],
   "source": [
    "# 导入软件包\n",
    "import numpy as np\n",
    "import random\n",
    "\n",
    "import torch\n",
    "import torch.nn as nn\n",
    "import torch.optim as optim\n",
    "\n",
    "import torchtext"
   ]
  },
  {
   "cell_type": "code",
   "execution_count": 2,
   "metadata": {
    "pycharm": {
     "name": "#%%\n"
    }
   },
   "outputs": [],
   "source": [
    "# 设定随机数的种子，\n",
    "torch.manual_seed(1234)\n",
    "np.random.seed(1234)\n",
    "random.seed(1234)"
   ]
  },
  {
   "cell_type": "markdown",
   "metadata": {
    "pycharm": {
     "name": "#%% md\n"
    }
   },
   "source": [
    "#准备DataLoader 和Transformer 模型"
   ]
  },
  {
   "cell_type": "code",
   "execution_count": 3,
   "metadata": {
    "pycharm": {
     "name": "#%%\n"
    }
   },
   "outputs": [],
   "source": [
    "from utils.dataloader import get_IMDb_DataLoaders_and_TEXT\n",
    "            \n",
    "# 载入数据\n",
    "train_dl, val_dl, test_dl, TEXT = get_IMDb_DataLoaders_and_TEXT(max_length=256, batch_size=64)\n",
    "\n",
    "# 集中保存到字典对象中\n",
    "dataloaders_dict = {\"train\": train_dl, \"val\": val_dl}"
   ]
  },
  {
   "cell_type": "markdown",
   "metadata": {
    "pycharm": {
     "name": "#%% md\n"
    }
   },
   "source": [
    "#创建网络模型"
   ]
  },
  {
   "cell_type": "code",
   "execution_count": 4,
   "metadata": {
    "pycharm": {
     "name": "#%%\n"
    }
   },
   "outputs": [
    {
     "name": "stdout",
     "output_type": "stream",
     "text": [
      "网络设置完毕\n"
     ]
    }
   ],
   "source": [
    "from utils.transformer import TransformerClassification\n",
    "\n",
    "# 构建模型\n",
    "net = TransformerClassification(\n",
    "    text_embedding_vectors=TEXT.vocab.vectors, d_model=300, max_seq_len=256, output_dim=2)\n",
    "\n",
    "# 定义网络的初始化操作\n",
    "def weights_init(m):\n",
    "    classname = m.__class__.__name__\n",
    "    if classname.find('Linear') != -1:\n",
    "       #Liner层的初始化\n",
    "        nn.init.kaiming_normal_(m.weight)\n",
    "        if m.bias is not None:\n",
    "            nn.init.constant_(m.bias, 0.0)\n",
    "\n",
    "# 设置为训练模式\n",
    "net.train()\n",
    "\n",
    "# 执行TransformerBlock模块的初始化操作\n",
    "net.net3_1.apply(weights_init)\n",
    "net.net3_2.apply(weights_init)\n",
    "\n",
    "\n",
    "print('网络设置完毕')"
   ]
  },
  {
   "cell_type": "markdown",
   "metadata": {
    "pycharm": {
     "name": "#%% md\n"
    }
   },
   "source": [
    "# 损失函数与最优化算法"
   ]
  },
  {
   "cell_type": "code",
   "execution_count": 5,
   "metadata": {
    "pycharm": {
     "name": "#%%\n"
    }
   },
   "outputs": [],
   "source": [
    "# 设置损失函数\n",
    "criterion = nn.CrossEntropyLoss()\n",
    "# 先计算nn.LogSoftmax，再计算nn.NLLLoss(negative log likelihood loss)\n",
    "\n",
    "# 设置最优化算法\n",
    "learning_rate = 2e-5\n",
    "optimizer = optim.Adam(net.parameters(), lr=learning_rate)"
   ]
  },
  {
   "cell_type": "markdown",
   "metadata": {
    "pycharm": {
     "name": "#%% md\n"
    }
   },
   "source": [
    "#训练与验证函数的编写和执行"
   ]
  },
  {
   "cell_type": "code",
   "execution_count": 6,
   "metadata": {
    "pycharm": {
     "name": "#%%\n"
    }
   },
   "outputs": [],
   "source": [
    "# 创建用于训练模型的函数\n",
    "def train_model(net, dataloaders_dict, criterion, optimizer, num_epochs):\n",
    "\n",
    "    # 确认是否能够使用GPU\n",
    "    device = torch.device(\"cuda:0\" if torch.cuda.is_available() else \"cpu\")\n",
    "    print(\"使用的设备：\", device)\n",
    "    print('-------start-------')\n",
    "    # 将网络载入GPU中\n",
    "    net.to(device)\n",
    "\n",
    "    # 如果网络结构比较固定，则开启硬件加速\n",
    "    torch.backends.cudnn.benchmark = True\n",
    "\n",
    "    # epoch循环\n",
    "    for epoch in range(num_epochs):\n",
    "        # 以epoch为单位进行训练和验证的循环\n",
    "        for phase in ['train', 'val']:\n",
    "            if phase == 'train':\n",
    "                net.train()  # 将模型设为训练模式\n",
    "            else:\n",
    "                net.eval()   # 将模型设为训练模式\n",
    "\n",
    "            epoch_loss = 0.0  # epoch的损失\n",
    "            epoch_corrects = 0  # epoch的准确率\n",
    "\n",
    "            # 从数据加载器中读取小批次数据的循环\n",
    "            for batch in (dataloaders_dict[phase]):\n",
    "                # batch是Text和Lable的字典对象\n",
    "\n",
    "                # 如果GPU可以使用，则将数据输送到GPU中\n",
    "                inputs = batch.Text[0].to(device)  # 文章\n",
    "                labels = batch.Label.to(device)  # 标签\n",
    "\n",
    "                # 初始化optimizer\n",
    "                optimizer.zero_grad()\n",
    "\n",
    "                # 初始化optimizer\n",
    "                with torch.set_grad_enabled(phase == 'train'):\n",
    "\n",
    "                    # mask作成\n",
    "                    input_pad = 1  # 在单词ID中'<pad>': 1\n",
    "                    input_mask = (inputs != input_pad)\n",
    "\n",
    "                    # 输入Transformer中\n",
    "                    outputs, _, _ = net(inputs, input_mask)\n",
    "                    loss = criterion(outputs, labels)  # 计算损失值\n",
    "\n",
    "                    _, preds = torch.max(outputs, 1)   # 对标签进行预测\n",
    "\n",
    "                    # 训练时进行反向传播\n",
    "                    if phase == 'train':\n",
    "                        loss.backward()\n",
    "                        optimizer.step()\n",
    "\n",
    "                    # 计算结果\n",
    "                    epoch_loss += loss.item() * inputs.size(0)  # lossの合計を更新\n",
    "                    # 更新正确答案的合计数量\n",
    "                    epoch_corrects += torch.sum(preds == labels.data)\n",
    "\n",
    "            # 每轮epoch的loss和准确率\n",
    "            epoch_loss = epoch_loss / len(dataloaders_dict[phase].dataset)\n",
    "            epoch_acc = epoch_corrects.double() / len(dataloaders_dict[phase].dataset)\n",
    "\n",
    "            print('Epoch {}/{} | {:^5} |  Loss: {:.4f} Acc: {:.4f}'.format(epoch+1, num_epochs, phase, epoch_loss, epoch_acc))\n",
    "\n",
    "    return net"
   ]
  },
  {
   "cell_type": "code",
   "execution_count": 7,
   "metadata": {
    "pycharm": {
     "name": "#%%\n"
    }
   },
   "outputs": [
    {
     "name": "stdout",
     "output_type": "stream",
     "text": [
      "使用的设备： cuda:0\n",
      "-------start-------\n",
      "Epoch 1/10 | train |  Loss: 0.5938 Acc: 0.6679\n",
      "Epoch 1/10 |  val  |  Loss: 0.4385 Acc: 0.8086\n",
      "Epoch 2/10 | train |  Loss: 0.4392 Acc: 0.8012\n",
      "Epoch 2/10 |  val  |  Loss: 0.4051 Acc: 0.8190\n",
      "Epoch 3/10 | train |  Loss: 0.4035 Acc: 0.8186\n",
      "Epoch 3/10 |  val  |  Loss: 0.3844 Acc: 0.8274\n",
      "Epoch 4/10 | train |  Loss: 0.3846 Acc: 0.8317\n",
      "Epoch 4/10 |  val  |  Loss: 0.3880 Acc: 0.8292\n",
      "Epoch 5/10 | train |  Loss: 0.3731 Acc: 0.8372\n",
      "Epoch 5/10 |  val  |  Loss: 0.3584 Acc: 0.8422\n",
      "Epoch 6/10 | train |  Loss: 0.3633 Acc: 0.8388\n",
      "Epoch 6/10 |  val  |  Loss: 0.3565 Acc: 0.8446\n",
      "Epoch 7/10 | train |  Loss: 0.3572 Acc: 0.8427\n",
      "Epoch 7/10 |  val  |  Loss: 0.3495 Acc: 0.8498\n",
      "Epoch 8/10 | train |  Loss: 0.3451 Acc: 0.8508\n",
      "Epoch 8/10 |  val  |  Loss: 0.3511 Acc: 0.8464\n",
      "Epoch 9/10 | train |  Loss: 0.3366 Acc: 0.8553\n",
      "Epoch 9/10 |  val  |  Loss: 0.3478 Acc: 0.8484\n",
      "Epoch 10/10 | train |  Loss: 0.3306 Acc: 0.8587\n",
      "Epoch 10/10 |  val  |  Loss: 0.3332 Acc: 0.8560\n"
     ]
    }
   ],
   "source": [
    "# 执行学习和验证处理所需时间约为15分钟\n",
    "num_epochs = 10\n",
    "net_trained = train_model(net, dataloaders_dict, criterion, optimizer, num_epochs=num_epochs)"
   ]
  },
  {
   "cell_type": "markdown",
   "metadata": {
    "pycharm": {
     "name": "#%% md\n"
    }
   },
   "source": [
    "# 求测试数据的正确率"
   ]
  },
  {
   "cell_type": "code",
   "execution_count": 8,
   "metadata": {
    "pycharm": {
     "name": "#%%\n"
    }
   },
   "outputs": [
    {
     "name": "stdout",
     "output_type": "stream",
     "text": [
      "总数25000个的测试数据的准确率：0.8498\n"
     ]
    }
   ],
   "source": [
    "# device\n",
    "device = torch.device(\"cuda:0\" if torch.cuda.is_available() else \"cpu\")\n",
    "\n",
    "net_trained.eval()  # 将模型转换为验证模式\n",
    "net_trained.to(device)\n",
    "\n",
    "epoch_corrects = 0  # epoch的正确答案数\n",
    "\n",
    "for batch in (test_dl):  # test数据的DataLoader\n",
    "    \n",
    "    # batch是Text和Label的字典对象\n",
    "    inputs = batch.Text[0].to(device)  # 文章\n",
    "    labels = batch.Label.to(device)  # 标签\n",
    "\n",
    "    # 正向传播计算\n",
    "    with torch.set_grad_enabled(False):\n",
    "\n",
    "        # mask作成\n",
    "        input_pad = 1  # 在单词ID中'<pad>': 1\n",
    "        input_mask = (inputs != input_pad)\n",
    "\n",
    "        # 输入Transformer中\n",
    "        outputs, _, _ = net_trained(inputs, input_mask)\n",
    "        _, preds = torch.max(outputs, 1)  # 对标签进行预测\n",
    "\n",
    "        # 结果的计算\n",
    "        # 更新正确答案的合计数量\n",
    "        epoch_corrects += torch.sum(preds == labels.data)\n",
    "\n",
    "# 准确率\n",
    "epoch_acc = epoch_corrects.double() / len(test_dl.dataset)\n",
    "\n",
    "print('总数{}个的测试数据的准确率：{:.4f}'.format(len(test_dl.dataset),epoch_acc))"
   ]
  },
  {
   "cell_type": "markdown",
   "metadata": {
    "pycharm": {
     "name": "#%% md\n"
    }
   },
   "source": [
    "# 通过Attention 的可视化寻找判断依据\n",
    "\n"
   ]
  },
  {
   "cell_type": "code",
   "execution_count": 9,
   "metadata": {
    "pycharm": {
     "name": "#%%\n"
    }
   },
   "outputs": [],
   "source": [
    "# 编写生成HTML的函数\n",
    "def highlight(word, attn):\n",
    "    \"如果Attention的值较大，则函数将输出较深的红色作为文字背景的HTML\"\n",
    "\n",
    "    html_color = '#%02X%02X%02X' % (\n",
    "        255, int(255*(1 - attn)), int(255*(1 - attn)))\n",
    "    return '<span style=\"background-color: {}\"> {}</span>'.format(html_color, word)\n",
    "\n",
    "\n",
    "def mk_html(index, batch, preds, normlized_weights_1, normlized_weights_2, TEXT):\n",
    "    \"生成HTML数据\"\n",
    "\n",
    "    # 取出index的结果\n",
    "    sentence = batch.Text[0][index]  # 文章\n",
    "    label = batch.Label[index]  # 标签\n",
    "    pred = preds[index]  # 预测\n",
    "\n",
    "    # index的Attention的提取和归一化\n",
    "    attens1 = normlized_weights_1[index, 0, :]  # 第0个<cls>的Attention\n",
    "    attens1 /= attens1.max()\n",
    "\n",
    "    attens2 = normlized_weights_2[index, 0, :]  # 第0个<cls>的Attention\n",
    "    attens2 /= attens2.max()\n",
    "\n",
    "    # 将标签和预测结果替换成文字信息\n",
    "    if label == 0:\n",
    "        label_str = \"Negative\"\n",
    "    else:\n",
    "        label_str = \"Positive\"\n",
    "\n",
    "    if pred == 0:\n",
    "        pred_str = \"Negative\"\n",
    "    else:\n",
    "        pred_str = \"Positive\"\n",
    "\n",
    "    # 生成用于显示的HTML\n",
    "    html = '正确答案 ：{}<br>推论标签 ：{}<br><br>'.format(label_str, pred_str)\n",
    "\n",
    "    # 第一段Attention\n",
    "    html += '[对TransformerBlock的第一段Attention进行可视化]<br>'\n",
    "    for word, attn in zip(sentence, attens1):\n",
    "        html += highlight(TEXT.vocab.itos[word], attn)\n",
    "    html += \"<br><br>\"\n",
    "\n",
    "    # 第二段Attention\n",
    "    html += '[对TransformerBlock的第二段Attention进行可视化]<br>'\n",
    "    for word, attn in zip(sentence, attens2):\n",
    "        html += highlight(TEXT.vocab.itos[word], attn)\n",
    "\n",
    "    html += \"<br><br>\"\n",
    "\n",
    "    return html"
   ]
  },
  {
   "cell_type": "code",
   "execution_count": 10,
   "metadata": {
    "pycharm": {
     "name": "#%%\n"
    }
   },
   "outputs": [
    {
     "data": {
      "text/html": [
       "正确答案 ：Positive<br>推论标签 ：Positive<br><br>[对TransformerBlock的第一段Attention进行可视化]<br><span style=\"background-color: #FFF8F8\"> <cls></span><span style=\"background-color: #FFFCFC\"> i</span><span style=\"background-color: #FFA1A1\"> saw</span><span style=\"background-color: #FFF7F7\"> this</span><span style=\"background-color: #FFF5F5\"> film</span><span style=\"background-color: #FFFEFE\"> in</span><span style=\"background-color: #FFFDFD\"> a</span><span style=\"background-color: #FFFAFA\"> sneak</span><span style=\"background-color: #FFE3E3\"> preview</span><span style=\"background-color: #FFFEFE\"> ,</span><span style=\"background-color: #FFFEFE\"> and</span><span style=\"background-color: #FFFEFE\"> it</span><span style=\"background-color: #FFFCFC\"> is</span><span style=\"background-color: #FF7272\"> delightful</span><span style=\"background-color: #FFFEFE\"> .</span><span style=\"background-color: #FFFDFD\"> the</span><span style=\"background-color: #FFE3E3\"> cinematography</span><span style=\"background-color: #FFFDFD\"> is</span><span style=\"background-color: #FFFEFE\"> unusually</span><span style=\"background-color: #FFD2D2\"> creative</span><span style=\"background-color: #FFFEFE\"> ,</span><span style=\"background-color: #FFFDFD\"> the</span><span style=\"background-color: #FFF0F0\"> acting</span><span style=\"background-color: #FFFCFC\"> is</span><span style=\"background-color: #FFAEAE\"> good</span><span style=\"background-color: #FFFEFE\"> ,</span><span style=\"background-color: #FFFEFE\"> and</span><span style=\"background-color: #FFFCFC\"> the</span><span style=\"background-color: #FFF3F3\"> story</span><span style=\"background-color: #FFFCFC\"> is</span><span style=\"background-color: #FF0000\"> fabulous</span><span style=\"background-color: #FFFEFE\"> .</span><span style=\"background-color: #FFFEFE\"> if</span><span style=\"background-color: #FFF9F9\"> this</span><span style=\"background-color: #FFEEEE\"> movie</span><span style=\"background-color: #FFF7F7\"> does</span><span style=\"background-color: #FFEDED\"> not</span><span style=\"background-color: #FFFDFD\"> do</span><span style=\"background-color: #FFFDFD\"> well</span><span style=\"background-color: #FFFEFE\"> ,</span><span style=\"background-color: #FFFEFE\"> it</span><span style=\"background-color: #FFF7F7\"> won</span><span style=\"background-color: #FFFAFA\"> t</span><span style=\"background-color: #FFFDFD\"> be</span><span style=\"background-color: #FFFDFD\"> because</span><span style=\"background-color: #FFFEFE\"> it</span><span style=\"background-color: #FFF6F6\"> doesn</span><span style=\"background-color: #FFFAFA\"> t</span><span style=\"background-color: #FFF9F9\"> deserve</span><span style=\"background-color: #FFFDFD\"> to</span><span style=\"background-color: #FFFEFE\"> .</span><span style=\"background-color: #FFFDFD\"> before</span><span style=\"background-color: #FFF9F9\"> this</span><span style=\"background-color: #FFF7F7\"> film</span><span style=\"background-color: #FFFEFE\"> ,</span><span style=\"background-color: #FFFDFD\"> i</span><span style=\"background-color: #FFDBDB\"> didn</span><span style=\"background-color: #FFFBFB\"> t</span><span style=\"background-color: #FFEBEB\"> realize</span><span style=\"background-color: #FFFEFE\"> how</span><span style=\"background-color: #FFCECE\"> charming</span><span style=\"background-color: #FFEDED\"> shia</span><span style=\"background-color: #FFFDFD\"> <unk></span><span style=\"background-color: #FFF7F7\"> could</span><span style=\"background-color: #FFFDFD\"> be</span><span style=\"background-color: #FFFEFE\"> .</span><span style=\"background-color: #FFFEFE\"> he</span><span style=\"background-color: #FFF7F7\"> does</span><span style=\"background-color: #FFFCFC\"> a</span><span style=\"background-color: #FF5353\"> marvelous</span><span style=\"background-color: #FFFEFE\"> ,</span><span style=\"background-color: #FFE2E2\"> self</span><span style=\"background-color: #FFF9F9\"> contained</span><span style=\"background-color: #FFFEFE\"> ,</span><span style=\"background-color: #FFF7F7\"> job</span><span style=\"background-color: #FFFEFE\"> as</span><span style=\"background-color: #FFFCFC\"> the</span><span style=\"background-color: #FFF0F0\"> lead</span><span style=\"background-color: #FFFEFE\"> .</span><span style=\"background-color: #FFFEFE\"> there</span><span style=\"background-color: #FFFCFC\"> s</span><span style=\"background-color: #FFFCFC\"> something</span><span style=\"background-color: #FFFCFC\"> incredibly</span><span style=\"background-color: #FFF2F2\"> sweet</span><span style=\"background-color: #FFFEFE\"> about</span><span style=\"background-color: #FFFCFC\"> him</span><span style=\"background-color: #FFFEFE\"> ,</span><span style=\"background-color: #FFFEFE\"> and</span><span style=\"background-color: #FFFEFE\"> it</span><span style=\"background-color: #FFF2F2\"> makes</span><span style=\"background-color: #FFFDFD\"> the</span><span style=\"background-color: #FFEDED\"> movie</span><span style=\"background-color: #FFFBFB\"> even</span><span style=\"background-color: #FFEDED\"> better</span><span style=\"background-color: #FFFEFE\"> .</span><span style=\"background-color: #FFFCFC\"> the</span><span style=\"background-color: #FFFEFE\"> other</span><span style=\"background-color: #FFE3E3\"> actors</span><span style=\"background-color: #FFFBFB\"> do</span><span style=\"background-color: #FFFBFB\"> a</span><span style=\"background-color: #FFB4B4\"> good</span><span style=\"background-color: #FFF9F9\"> job</span><span style=\"background-color: #FFFEFE\"> as</span><span style=\"background-color: #FFFDFD\"> well</span><span style=\"background-color: #FFFEFE\"> ,</span><span style=\"background-color: #FFFEFE\"> and</span><span style=\"background-color: #FFFCFC\"> the</span><span style=\"background-color: #FFF4F4\"> film</span><span style=\"background-color: #FFFCFC\"> contains</span><span style=\"background-color: #FFEBEB\"> moments</span><span style=\"background-color: #FFFCFC\"> of</span><span style=\"background-color: #FFE8E8\"> really</span><span style=\"background-color: #FFFDFD\"> high</span><span style=\"background-color: #FFDDDD\"> suspense</span><span style=\"background-color: #FFFEFE\"> ,</span><span style=\"background-color: #FFFEFE\"> more</span><span style=\"background-color: #FFFDFD\"> than</span><span style=\"background-color: #FFFBFB\"> one</span><span style=\"background-color: #FFF9F9\"> might</span><span style=\"background-color: #FFFBFB\"> expect</span><span style=\"background-color: #FFFEFE\"> from</span><span style=\"background-color: #FFFDFD\"> a</span><span style=\"background-color: #FFF1F1\"> movie</span><span style=\"background-color: #FFFEFE\"> about</span><span style=\"background-color: #FFFDFD\"> golf</span><span style=\"background-color: #FFFEFE\"> .</span><span style=\"background-color: #FFFAFA\"> sports</span><span style=\"background-color: #FFEDED\"> movies</span><span style=\"background-color: #FFFDFD\"> are</span><span style=\"background-color: #FFFCFC\"> a</span><span style=\"background-color: #FFFCFC\"> dime</span><span style=\"background-color: #FFFCFC\"> a</span><span style=\"background-color: #FFFEFE\"> dozen</span><span style=\"background-color: #FFFEFE\"> ,</span><span style=\"background-color: #FFFEFE\"> but</span><span style=\"background-color: #FFFAFA\"> this</span><span style=\"background-color: #FFFBFB\"> one</span><span style=\"background-color: #FFF9F9\"> stands</span><span style=\"background-color: #FFFDFD\"> out</span><span style=\"background-color: #FFFEFE\"> .</span><span style=\"background-color: #FFFAFA\"> this</span><span style=\"background-color: #FFFCFC\"> is</span><span style=\"background-color: #FFFCFC\"> one</span><span style=\"background-color: #FFFDFD\"> i</span><span style=\"background-color: #FFFDFD\"> d</span><span style=\"background-color: #FFE5E5\"> recommend</span><span style=\"background-color: #FFFDFD\"> to</span><span style=\"background-color: #FFFDFD\"> anyone</span><span style=\"background-color: #FFFEFE\"> .</span><span style=\"background-color: #FFFDFD\"> <eos></span><span style=\"background-color: #FFFFFF\"> <pad></span><span style=\"background-color: #FFFFFF\"> <pad></span><span style=\"background-color: #FFFFFF\"> <pad></span><span style=\"background-color: #FFFFFF\"> <pad></span><span style=\"background-color: #FFFFFF\"> <pad></span><span style=\"background-color: #FFFFFF\"> <pad></span><span style=\"background-color: #FFFFFF\"> <pad></span><span style=\"background-color: #FFFFFF\"> <pad></span><span style=\"background-color: #FFFFFF\"> <pad></span><span style=\"background-color: #FFFFFF\"> <pad></span><span style=\"background-color: #FFFFFF\"> <pad></span><span style=\"background-color: #FFFFFF\"> <pad></span><span style=\"background-color: #FFFFFF\"> <pad></span><span style=\"background-color: #FFFFFF\"> <pad></span><span style=\"background-color: #FFFFFF\"> <pad></span><span style=\"background-color: #FFFFFF\"> <pad></span><span style=\"background-color: #FFFFFF\"> <pad></span><span style=\"background-color: #FFFFFF\"> <pad></span><span style=\"background-color: #FFFFFF\"> <pad></span><span style=\"background-color: #FFFFFF\"> <pad></span><span style=\"background-color: #FFFFFF\"> <pad></span><span style=\"background-color: #FFFFFF\"> <pad></span><span style=\"background-color: #FFFFFF\"> <pad></span><span style=\"background-color: #FFFFFF\"> <pad></span><span style=\"background-color: #FFFFFF\"> <pad></span><span style=\"background-color: #FFFFFF\"> <pad></span><span style=\"background-color: #FFFFFF\"> <pad></span><span style=\"background-color: #FFFFFF\"> <pad></span><span style=\"background-color: #FFFFFF\"> <pad></span><span style=\"background-color: #FFFFFF\"> <pad></span><span style=\"background-color: #FFFFFF\"> <pad></span><span style=\"background-color: #FFFFFF\"> <pad></span><span style=\"background-color: #FFFFFF\"> <pad></span><span style=\"background-color: #FFFFFF\"> <pad></span><span style=\"background-color: #FFFFFF\"> <pad></span><span style=\"background-color: #FFFFFF\"> <pad></span><span style=\"background-color: #FFFFFF\"> <pad></span><span style=\"background-color: #FFFFFF\"> <pad></span><span style=\"background-color: #FFFFFF\"> <pad></span><span style=\"background-color: #FFFFFF\"> <pad></span><span style=\"background-color: #FFFFFF\"> <pad></span><span style=\"background-color: #FFFFFF\"> <pad></span><span style=\"background-color: #FFFFFF\"> <pad></span><span style=\"background-color: #FFFFFF\"> <pad></span><span style=\"background-color: #FFFFFF\"> <pad></span><span style=\"background-color: #FFFFFF\"> <pad></span><span style=\"background-color: #FFFFFF\"> <pad></span><span style=\"background-color: #FFFFFF\"> <pad></span><span style=\"background-color: #FFFFFF\"> <pad></span><span style=\"background-color: #FFFFFF\"> <pad></span><span style=\"background-color: #FFFFFF\"> <pad></span><span style=\"background-color: #FFFFFF\"> <pad></span><span style=\"background-color: #FFFFFF\"> <pad></span><span style=\"background-color: #FFFFFF\"> <pad></span><span style=\"background-color: #FFFFFF\"> <pad></span><span style=\"background-color: #FFFFFF\"> <pad></span><span style=\"background-color: #FFFFFF\"> <pad></span><span style=\"background-color: #FFFFFF\"> <pad></span><span style=\"background-color: #FFFFFF\"> <pad></span><span style=\"background-color: #FFFFFF\"> <pad></span><span style=\"background-color: #FFFFFF\"> <pad></span><span style=\"background-color: #FFFFFF\"> <pad></span><span style=\"background-color: #FFFFFF\"> <pad></span><span style=\"background-color: #FFFFFF\"> <pad></span><span style=\"background-color: #FFFFFF\"> <pad></span><span style=\"background-color: #FFFFFF\"> <pad></span><span style=\"background-color: #FFFFFF\"> <pad></span><span style=\"background-color: #FFFFFF\"> <pad></span><span style=\"background-color: #FFFFFF\"> <pad></span><span style=\"background-color: #FFFFFF\"> <pad></span><span style=\"background-color: #FFFFFF\"> <pad></span><span style=\"background-color: #FFFFFF\"> <pad></span><span style=\"background-color: #FFFFFF\"> <pad></span><span style=\"background-color: #FFFFFF\"> <pad></span><span style=\"background-color: #FFFFFF\"> <pad></span><span style=\"background-color: #FFFFFF\"> <pad></span><span style=\"background-color: #FFFFFF\"> <pad></span><span style=\"background-color: #FFFFFF\"> <pad></span><span style=\"background-color: #FFFFFF\"> <pad></span><span style=\"background-color: #FFFFFF\"> <pad></span><span style=\"background-color: #FFFFFF\"> <pad></span><span style=\"background-color: #FFFFFF\"> <pad></span><span style=\"background-color: #FFFFFF\"> <pad></span><span style=\"background-color: #FFFFFF\"> <pad></span><span style=\"background-color: #FFFFFF\"> <pad></span><span style=\"background-color: #FFFFFF\"> <pad></span><span style=\"background-color: #FFFFFF\"> <pad></span><span style=\"background-color: #FFFFFF\"> <pad></span><span style=\"background-color: #FFFFFF\"> <pad></span><span style=\"background-color: #FFFFFF\"> <pad></span><span style=\"background-color: #FFFFFF\"> <pad></span><span style=\"background-color: #FFFFFF\"> <pad></span><span style=\"background-color: #FFFFFF\"> <pad></span><span style=\"background-color: #FFFFFF\"> <pad></span><span style=\"background-color: #FFFFFF\"> <pad></span><span style=\"background-color: #FFFFFF\"> <pad></span><span style=\"background-color: #FFFFFF\"> <pad></span><span style=\"background-color: #FFFFFF\"> <pad></span><span style=\"background-color: #FFFFFF\"> <pad></span><span style=\"background-color: #FFFFFF\"> <pad></span><span style=\"background-color: #FFFFFF\"> <pad></span><span style=\"background-color: #FFFFFF\"> <pad></span><span style=\"background-color: #FFFFFF\"> <pad></span><span style=\"background-color: #FFFFFF\"> <pad></span><span style=\"background-color: #FFFFFF\"> <pad></span><span style=\"background-color: #FFFFFF\"> <pad></span><br><br>[对TransformerBlock的第二段Attention进行可视化]<br><span style=\"background-color: #FFFEFE\"> <cls></span><span style=\"background-color: #FFFEFE\"> i</span><span style=\"background-color: #FFFDFD\"> saw</span><span style=\"background-color: #FFF7F7\"> this</span><span style=\"background-color: #FFFDFD\"> film</span><span style=\"background-color: #FFFBFB\"> in</span><span style=\"background-color: #FFF9F9\"> a</span><span style=\"background-color: #FFFDFD\"> sneak</span><span style=\"background-color: #FFFDFD\"> preview</span><span style=\"background-color: #FFFEFE\"> ,</span><span style=\"background-color: #FFFEFE\"> and</span><span style=\"background-color: #FFFEFE\"> it</span><span style=\"background-color: #FFEDED\"> is</span><span style=\"background-color: #FFCCCC\"> delightful</span><span style=\"background-color: #FFFBFB\"> .</span><span style=\"background-color: #FFFEFE\"> the</span><span style=\"background-color: #FFFBFB\"> cinematography</span><span style=\"background-color: #FFDFDF\"> is</span><span style=\"background-color: #FFBBBB\"> unusually</span><span style=\"background-color: #FFF9F9\"> creative</span><span style=\"background-color: #FFFEFE\"> ,</span><span style=\"background-color: #FFFEFE\"> the</span><span style=\"background-color: #FFFCFC\"> acting</span><span style=\"background-color: #FFD5D5\"> is</span><span style=\"background-color: #FFD4D4\"> good</span><span style=\"background-color: #FFFDFD\"> ,</span><span style=\"background-color: #FFFEFE\"> and</span><span style=\"background-color: #FFFEFE\"> the</span><span style=\"background-color: #FFFEFE\"> story</span><span style=\"background-color: #FFE0E0\"> is</span><span style=\"background-color: #FFEFEF\"> fabulous</span><span style=\"background-color: #FFFAFA\"> .</span><span style=\"background-color: #FFFAFA\"> if</span><span style=\"background-color: #FFF8F8\"> this</span><span style=\"background-color: #FFFEFE\"> movie</span><span style=\"background-color: #FFFDFD\"> does</span><span style=\"background-color: #FFFDFD\"> not</span><span style=\"background-color: #FFFDFD\"> do</span><span style=\"background-color: #FFDADA\"> well</span><span style=\"background-color: #FFFEFE\"> ,</span><span style=\"background-color: #FFFEFE\"> it</span><span style=\"background-color: #FFFEFE\"> won</span><span style=\"background-color: #FFFCFC\"> t</span><span style=\"background-color: #FFF4F4\"> be</span><span style=\"background-color: #FFFBFB\"> because</span><span style=\"background-color: #FFFDFD\"> it</span><span style=\"background-color: #FFFBFB\"> doesn</span><span style=\"background-color: #FFFCFC\"> t</span><span style=\"background-color: #FFF0F0\"> deserve</span><span style=\"background-color: #FFFEFE\"> to</span><span style=\"background-color: #FFFBFB\"> .</span><span style=\"background-color: #FFFEFE\"> before</span><span style=\"background-color: #FFF8F8\"> this</span><span style=\"background-color: #FFFEFE\"> film</span><span style=\"background-color: #FFFDFD\"> ,</span><span style=\"background-color: #FFFEFE\"> i</span><span style=\"background-color: #FFFEFE\"> didn</span><span style=\"background-color: #FFFBFB\"> t</span><span style=\"background-color: #FFF4F4\"> realize</span><span style=\"background-color: #FFF4F4\"> how</span><span style=\"background-color: #FFC5C5\"> charming</span><span style=\"background-color: #FFFEFE\"> shia</span><span style=\"background-color: #FFFEFE\"> <unk></span><span style=\"background-color: #FFFEFE\"> could</span><span style=\"background-color: #FFEEEE\"> be</span><span style=\"background-color: #FFFAFA\"> .</span><span style=\"background-color: #FFF7F7\"> he</span><span style=\"background-color: #FFFBFB\"> does</span><span style=\"background-color: #FFF8F8\"> a</span><span style=\"background-color: #FFADAD\"> marvelous</span><span style=\"background-color: #FFFDFD\"> ,</span><span style=\"background-color: #FFFCFC\"> self</span><span style=\"background-color: #FFE4E4\"> contained</span><span style=\"background-color: #FFFDFD\"> ,</span><span style=\"background-color: #FFFCFC\"> job</span><span style=\"background-color: #FFFDFD\"> as</span><span style=\"background-color: #FFFEFE\"> the</span><span style=\"background-color: #FFFEFE\"> lead</span><span style=\"background-color: #FFF9F9\"> .</span><span style=\"background-color: #FFFDFD\"> there</span><span style=\"background-color: #FFFDFD\"> s</span><span style=\"background-color: #FFEBEB\"> something</span><span style=\"background-color: #FF0000\"> incredibly</span><span style=\"background-color: #FF5757\"> sweet</span><span style=\"background-color: #FFFCFC\"> about</span><span style=\"background-color: #FFFCFC\"> him</span><span style=\"background-color: #FFFDFD\"> ,</span><span style=\"background-color: #FFFEFE\"> and</span><span style=\"background-color: #FFFDFD\"> it</span><span style=\"background-color: #FFF4F4\"> makes</span><span style=\"background-color: #FFFEFE\"> the</span><span style=\"background-color: #FFFEFE\"> movie</span><span style=\"background-color: #FFFAFA\"> even</span><span style=\"background-color: #FFBDBD\"> better</span><span style=\"background-color: #FFFAFA\"> .</span><span style=\"background-color: #FFFEFE\"> the</span><span style=\"background-color: #FFF8F8\"> other</span><span style=\"background-color: #FFFEFE\"> actors</span><span style=\"background-color: #FFFDFD\"> do</span><span style=\"background-color: #FFFBFB\"> a</span><span style=\"background-color: #FFDDDD\"> good</span><span style=\"background-color: #FFFDFD\"> job</span><span style=\"background-color: #FFFEFE\"> as</span><span style=\"background-color: #FFDBDB\"> well</span><span style=\"background-color: #FFFDFD\"> ,</span><span style=\"background-color: #FFFEFE\"> and</span><span style=\"background-color: #FFFEFE\"> the</span><span style=\"background-color: #FFFEFE\"> film</span><span style=\"background-color: #FFAFAF\"> contains</span><span style=\"background-color: #FFFAFA\"> moments</span><span style=\"background-color: #FFFAFA\"> of</span><span style=\"background-color: #FFF7F7\"> really</span><span style=\"background-color: #FFECEC\"> high</span><span style=\"background-color: #FFE8E8\"> suspense</span><span style=\"background-color: #FFFDFD\"> ,</span><span style=\"background-color: #FFE1E1\"> more</span><span style=\"background-color: #FFFCFC\"> than</span><span style=\"background-color: #FFEFEF\"> one</span><span style=\"background-color: #FFFEFE\"> might</span><span style=\"background-color: #FFECEC\"> expect</span><span style=\"background-color: #FFFCFC\"> from</span><span style=\"background-color: #FFF7F7\"> a</span><span style=\"background-color: #FFFEFE\"> movie</span><span style=\"background-color: #FFFAFA\"> about</span><span style=\"background-color: #FFFDFD\"> golf</span><span style=\"background-color: #FFFAFA\"> .</span><span style=\"background-color: #FFFEFE\"> sports</span><span style=\"background-color: #FFFEFE\"> movies</span><span style=\"background-color: #FFD8D8\"> are</span><span style=\"background-color: #FFFBFB\"> a</span><span style=\"background-color: #FFF8F8\"> dime</span><span style=\"background-color: #FFFBFB\"> a</span><span style=\"background-color: #FFF3F3\"> dozen</span><span style=\"background-color: #FFFDFD\"> ,</span><span style=\"background-color: #FFFBFB\"> but</span><span style=\"background-color: #FFF5F5\"> this</span><span style=\"background-color: #FFE9E9\"> one</span><span style=\"background-color: #FFEAEA\"> stands</span><span style=\"background-color: #FFF5F5\"> out</span><span style=\"background-color: #FFFAFA\"> .</span><span style=\"background-color: #FFFAFA\"> this</span><span style=\"background-color: #FFEDED\"> is</span><span style=\"background-color: #FFF2F2\"> one</span><span style=\"background-color: #FFFEFE\"> i</span><span style=\"background-color: #FFFDFD\"> d</span><span style=\"background-color: #FFF9F9\"> recommend</span><span style=\"background-color: #FFFDFD\"> to</span><span style=\"background-color: #FFF2F2\"> anyone</span><span style=\"background-color: #FFF7F7\"> .</span><span style=\"background-color: #FFFEFE\"> <eos></span><span style=\"background-color: #FFFFFF\"> <pad></span><span style=\"background-color: #FFFFFF\"> <pad></span><span style=\"background-color: #FFFFFF\"> <pad></span><span style=\"background-color: #FFFFFF\"> <pad></span><span style=\"background-color: #FFFFFF\"> <pad></span><span style=\"background-color: #FFFFFF\"> <pad></span><span style=\"background-color: #FFFFFF\"> <pad></span><span style=\"background-color: #FFFFFF\"> <pad></span><span style=\"background-color: #FFFFFF\"> <pad></span><span style=\"background-color: #FFFFFF\"> <pad></span><span style=\"background-color: #FFFFFF\"> <pad></span><span style=\"background-color: #FFFFFF\"> <pad></span><span style=\"background-color: #FFFFFF\"> <pad></span><span style=\"background-color: #FFFFFF\"> <pad></span><span style=\"background-color: #FFFFFF\"> <pad></span><span style=\"background-color: #FFFFFF\"> <pad></span><span style=\"background-color: #FFFFFF\"> <pad></span><span style=\"background-color: #FFFFFF\"> <pad></span><span style=\"background-color: #FFFFFF\"> <pad></span><span style=\"background-color: #FFFFFF\"> <pad></span><span style=\"background-color: #FFFFFF\"> <pad></span><span style=\"background-color: #FFFFFF\"> <pad></span><span style=\"background-color: #FFFFFF\"> <pad></span><span style=\"background-color: #FFFFFF\"> <pad></span><span style=\"background-color: #FFFFFF\"> <pad></span><span style=\"background-color: #FFFFFF\"> <pad></span><span style=\"background-color: #FFFFFF\"> <pad></span><span style=\"background-color: #FFFFFF\"> <pad></span><span style=\"background-color: #FFFFFF\"> <pad></span><span style=\"background-color: #FFFFFF\"> <pad></span><span style=\"background-color: #FFFFFF\"> <pad></span><span style=\"background-color: #FFFFFF\"> <pad></span><span style=\"background-color: #FFFFFF\"> <pad></span><span style=\"background-color: #FFFFFF\"> <pad></span><span style=\"background-color: #FFFFFF\"> <pad></span><span style=\"background-color: #FFFFFF\"> <pad></span><span style=\"background-color: #FFFFFF\"> <pad></span><span style=\"background-color: #FFFFFF\"> <pad></span><span style=\"background-color: #FFFFFF\"> <pad></span><span style=\"background-color: #FFFFFF\"> <pad></span><span style=\"background-color: #FFFFFF\"> <pad></span><span style=\"background-color: #FFFFFF\"> <pad></span><span style=\"background-color: #FFFFFF\"> <pad></span><span style=\"background-color: #FFFFFF\"> <pad></span><span style=\"background-color: #FFFFFF\"> <pad></span><span style=\"background-color: #FFFFFF\"> <pad></span><span style=\"background-color: #FFFFFF\"> <pad></span><span style=\"background-color: #FFFFFF\"> <pad></span><span style=\"background-color: #FFFFFF\"> <pad></span><span style=\"background-color: #FFFFFF\"> <pad></span><span style=\"background-color: #FFFFFF\"> <pad></span><span style=\"background-color: #FFFFFF\"> <pad></span><span style=\"background-color: #FFFFFF\"> <pad></span><span style=\"background-color: #FFFFFF\"> <pad></span><span style=\"background-color: #FFFFFF\"> <pad></span><span style=\"background-color: #FFFFFF\"> <pad></span><span style=\"background-color: #FFFFFF\"> <pad></span><span style=\"background-color: #FFFFFF\"> <pad></span><span style=\"background-color: #FFFFFF\"> <pad></span><span style=\"background-color: #FFFFFF\"> <pad></span><span style=\"background-color: #FFFFFF\"> <pad></span><span style=\"background-color: #FFFFFF\"> <pad></span><span style=\"background-color: #FFFFFF\"> <pad></span><span style=\"background-color: #FFFFFF\"> <pad></span><span style=\"background-color: #FFFFFF\"> <pad></span><span style=\"background-color: #FFFFFF\"> <pad></span><span style=\"background-color: #FFFFFF\"> <pad></span><span style=\"background-color: #FFFFFF\"> <pad></span><span style=\"background-color: #FFFFFF\"> <pad></span><span style=\"background-color: #FFFFFF\"> <pad></span><span style=\"background-color: #FFFFFF\"> <pad></span><span style=\"background-color: #FFFFFF\"> <pad></span><span style=\"background-color: #FFFFFF\"> <pad></span><span style=\"background-color: #FFFFFF\"> <pad></span><span style=\"background-color: #FFFFFF\"> <pad></span><span style=\"background-color: #FFFFFF\"> <pad></span><span style=\"background-color: #FFFFFF\"> <pad></span><span style=\"background-color: #FFFFFF\"> <pad></span><span style=\"background-color: #FFFFFF\"> <pad></span><span style=\"background-color: #FFFFFF\"> <pad></span><span style=\"background-color: #FFFFFF\"> <pad></span><span style=\"background-color: #FFFFFF\"> <pad></span><span style=\"background-color: #FFFFFF\"> <pad></span><span style=\"background-color: #FFFFFF\"> <pad></span><span style=\"background-color: #FFFFFF\"> <pad></span><span style=\"background-color: #FFFFFF\"> <pad></span><span style=\"background-color: #FFFFFF\"> <pad></span><span style=\"background-color: #FFFFFF\"> <pad></span><span style=\"background-color: #FFFFFF\"> <pad></span><span style=\"background-color: #FFFFFF\"> <pad></span><span style=\"background-color: #FFFFFF\"> <pad></span><span style=\"background-color: #FFFFFF\"> <pad></span><span style=\"background-color: #FFFFFF\"> <pad></span><span style=\"background-color: #FFFFFF\"> <pad></span><span style=\"background-color: #FFFFFF\"> <pad></span><span style=\"background-color: #FFFFFF\"> <pad></span><span style=\"background-color: #FFFFFF\"> <pad></span><span style=\"background-color: #FFFFFF\"> <pad></span><span style=\"background-color: #FFFFFF\"> <pad></span><span style=\"background-color: #FFFFFF\"> <pad></span><span style=\"background-color: #FFFFFF\"> <pad></span><span style=\"background-color: #FFFFFF\"> <pad></span><span style=\"background-color: #FFFFFF\"> <pad></span><span style=\"background-color: #FFFFFF\"> <pad></span><span style=\"background-color: #FFFFFF\"> <pad></span><span style=\"background-color: #FFFFFF\"> <pad></span><br><br>"
      ],
      "text/plain": [
       "<IPython.core.display.HTML object>"
      ]
     },
     "execution_count": 10,
     "metadata": {},
     "output_type": "execute_result"
    }
   ],
   "source": [
    "from IPython.display import HTML\n",
    "\n",
    "# 使用Transformer进行处理\n",
    "\n",
    "# 准备好小批次\n",
    "batch = next(iter(test_dl))\n",
    "\n",
    "# 如果GPU可以使用，则将数据输送到GPU中\n",
    "inputs = batch.Text[0].to(device)  # 文章\n",
    "labels = batch.Label.to(device)  # 标签\n",
    "\n",
    "# 创建mask\n",
    "input_pad = 1  # 在单词ID中'<pad>': 1\n",
    "input_mask = (inputs != input_pad)\n",
    "\n",
    "# 输入数据到Transformer\n",
    "outputs, normlized_weights_1, normlized_weights_2 = net_trained(\n",
    "    inputs, input_mask)\n",
    "_, preds = torch.max(outputs, 1)  # 对标签进行预测\n",
    "\n",
    "\n",
    "index = 3  # 指定需要输出的数据\n",
    "html_output = mk_html(index, batch, preds, normlized_weights_1, \n",
    "                      normlized_weights_2, TEXT)  # 生成HTML\n",
    "HTML(html_output)  # 使用HTML格式输出"
   ]
  },
  {
   "cell_type": "code",
   "execution_count": 11,
   "metadata": {
    "pycharm": {
     "name": "#%%\n"
    }
   },
   "outputs": [
    {
     "data": {
      "text/html": [
       "正确答案 ：Positive<br>推论标签 ：Positive<br><br>[对TransformerBlock的第一段Attention进行可视化]<br><span style=\"background-color: #FFF8F8\"> <cls></span><span style=\"background-color: #FFFCFC\"> i</span><span style=\"background-color: #FFF8F8\"> have</span><span style=\"background-color: #FFFDFD\"> to</span><span style=\"background-color: #FFE8E8\"> rate</span><span style=\"background-color: #FFFAFA\"> this</span><span style=\"background-color: #FFF2F2\"> movie</span><span style=\"background-color: #FFFEFE\"> at</span><span style=\"background-color: #FFFDFD\"> a</span><span style=\"background-color: #FFFDFD\"> 10</span><span style=\"background-color: #FFFEFE\"> .</span><span style=\"background-color: #FFFDFD\"> i</span><span style=\"background-color: #FFFEFE\"> m</span><span style=\"background-color: #FFB8B8\"> sorry</span><span style=\"background-color: #FFFEFE\"> but</span><span style=\"background-color: #FFFDFD\"> i</span><span style=\"background-color: #FFFCFC\"> think</span><span style=\"background-color: #FFFEFE\"> it</span><span style=\"background-color: #FFFDFD\"> s</span><span style=\"background-color: #FFA6A6\"> classic</span><span style=\"background-color: #FFDEDE\"> comedy</span><span style=\"background-color: #FFFEFE\"> .</span><span style=\"background-color: #FFFEFE\"> then</span><span style=\"background-color: #FFFEFE\"> ,</span><span style=\"background-color: #FFFEFE\"> if</span><span style=\"background-color: #FFFDFD\"> you</span><span style=\"background-color: #FFEEEE\"> re</span><span style=\"background-color: #FFF6F6\"> rating</span><span style=\"background-color: #FFFEFE\"> it</span><span style=\"background-color: #FFFDFD\"> to</span><span style=\"background-color: #FFFEFE\"> other</span><span style=\"background-color: #FFFBFB\"> madonna</span><span style=\"background-color: #FFECEC\"> movies</span><span style=\"background-color: #FFFEFE\"> .</span><span style=\"background-color: #FFFEFE\"> .</span><span style=\"background-color: #FFFEFE\"> .</span><span style=\"background-color: #FFFDFD\"> well</span><span style=\"background-color: #FFFEFE\"> ,</span><span style=\"background-color: #FFFEFE\"> what</span><span style=\"background-color: #FFFEFE\"> you</span><span style=\"background-color: #FFF6F6\"> wanna</span><span style=\"background-color: #FFFEFE\"> tell</span><span style=\"background-color: #FFFEFE\"> me</span><span style=\"background-color: #FFFEFE\"> it</span><span style=\"background-color: #FFCECE\"> wasn</span><span style=\"background-color: #FFFAFA\"> t</span><span style=\"background-color: #FFFDFD\"> her</span><span style=\"background-color: #FFD2D2\"> best</span><span style=\"background-color: #FFEEEE\"> movie</span><span style=\"background-color: #FFD4D4\"> ever</span><span style=\"background-color: #FFCFCF\"> didn</span><span style=\"background-color: #FFF9F9\"> t</span><span style=\"background-color: #FFFDFD\"> mira</span><span style=\"background-color: #FFFEFE\"> sorvino</span><span style=\"background-color: #FFFCFC\"> win</span><span style=\"background-color: #FFFEFE\"> an</span><span style=\"background-color: #FFFBFB\"> oscar</span><span style=\"background-color: #FFFEFE\"> for</span><span style=\"background-color: #FFFDFD\"> almost</span><span style=\"background-color: #FFFDFD\"> the</span><span style=\"background-color: #FFFBFB\"> same</span><span style=\"background-color: #FFE7E7\"> performance</span><span style=\"background-color: #FFF1F1\"> not</span><span style=\"background-color: #FFFEFE\"> ten</span><span style=\"background-color: #FFFEFE\"> years</span><span style=\"background-color: #FFFEFE\"> later</span><span style=\"background-color: #FFFDFD\"> please</span><span style=\"background-color: #FFFEFE\"> ,</span><span style=\"background-color: #FFF9F9\"> this</span><span style=\"background-color: #FFEEEE\"> movie</span><span style=\"background-color: #FFF9F9\"> deserves</span><span style=\"background-color: #FFFDFD\"> much</span><span style=\"background-color: #FFFEFE\"> more</span><span style=\"background-color: #FFF8F8\"> credit</span><span style=\"background-color: #FFFCFC\"> than</span><span style=\"background-color: #FFFDFD\"> it</span><span style=\"background-color: #FFFEFE\"> gets</span><span style=\"background-color: #FFFEFE\"> .</span><span style=\"background-color: #FFFEFE\"> plus</span><span style=\"background-color: #FFFEFE\"> ,</span><span style=\"background-color: #FFFDFD\"> i</span><span style=\"background-color: #FFFCFC\"> like</span><span style=\"background-color: #FFFDFD\"> to</span><span style=\"background-color: #FFFAFA\"> think</span><span style=\"background-color: #FFFBFB\"> of</span><span style=\"background-color: #FFFDFD\"> it</span><span style=\"background-color: #FFFEFE\"> as</span><span style=\"background-color: #FFFEFE\"> an</span><span style=\"background-color: #FFFCFC\"> a</span><span style=\"background-color: #FFFDFD\"> <unk></span><span style=\"background-color: #FFF5F5\"> study</span><span style=\"background-color: #FFFEFE\"> into</span><span style=\"background-color: #FFFDFD\"> the</span><span style=\"background-color: #FFFBFB\"> lifestyles</span><span style=\"background-color: #FFFCFC\"> of</span><span style=\"background-color: #FFFCFC\"> the</span><span style=\"background-color: #FFF6F6\"> 80</span><span style=\"background-color: #FFFAFA\"> s</span><span style=\"background-color: #FFFEFE\"> .</span><span style=\"background-color: #FFDADA\"> remember</span><span style=\"background-color: #FFFEFE\"> when</span><span style=\"background-color: #FFFEFE\"> you</span><span style=\"background-color: #FFF7F7\"> could</span><span style=\"background-color: #FFFDFD\"> <unk></span><span style=\"background-color: #FFFEFE\"> from</span><span style=\"background-color: #FFFEFE\"> sam</span><span style=\"background-color: #FFFAFA\"> goody</span><span style=\"background-color: #FFFEFE\"> and</span><span style=\"background-color: #FFFCFC\"> <unk></span><span style=\"background-color: #FFFEFE\"> in</span><span style=\"background-color: #FFFDFD\"> the</span><span style=\"background-color: #FFFAFA\"> same</span><span style=\"background-color: #FFFAFA\"> day</span><span style=\"background-color: #FFE0E0\"> remember</span><span style=\"background-color: #FFFEFE\"> when</span><span style=\"background-color: #FFFEFE\"> women</span><span style=\"background-color: #FFF5F5\"> wore</span><span style=\"background-color: #FFFEFE\"> <unk></span><span style=\"background-color: #FFF8F8\"> eyebrows</span><span style=\"background-color: #FFF8F8\"> proudly</span><span style=\"background-color: #FFFEFE\"> so</span><span style=\"background-color: #FFFEFE\"> it</span><span style=\"background-color: #FFF7F7\"> was</span><span style=\"background-color: #FFFCFC\"> no</span><span style=\"background-color: #FFFAFA\"> last</span><span style=\"background-color: #FFFEFE\"> emperor</span><span style=\"background-color: #FFFEFE\"> ,</span><span style=\"background-color: #FFFEFE\"> it</span><span style=\"background-color: #FFF5F5\"> was</span><span style=\"background-color: #FFF7F7\"> still</span><span style=\"background-color: #FFC5C5\"> good</span><span style=\"background-color: #FFFEFE\"> .</span><span style=\"background-color: #FFFEFE\"> there</span><span style=\"background-color: #FFFDFD\"> are</span><span style=\"background-color: #FFFDFD\"> certain</span><span style=\"background-color: #FFEEEE\"> movies</span><span style=\"background-color: #FFFDFD\"> i</span><span style=\"background-color: #FFFDFD\"> d</span><span style=\"background-color: #FFFDFD\"> be</span><span style=\"background-color: #FFFCFC\"> willing</span><span style=\"background-color: #FFFDFD\"> to</span><span style=\"background-color: #FFF9F9\"> watch</span><span style=\"background-color: #FFF8F8\"> everyday</span><span style=\"background-color: #FFFEFE\"> .</span><span style=\"background-color: #FFFEFE\"> three</span><span style=\"background-color: #FFFEFE\"> ,</span><span style=\"background-color: #FFE6E6\"> actually</span><span style=\"background-color: #FFFEFE\"> ,</span><span style=\"background-color: #FFFDFD\"> that</span><span style=\"background-color: #FFFDFD\"> <unk></span><span style=\"background-color: #FFF9F9\"> up</span><span style=\"background-color: #FFFAFA\"> my</span><span style=\"background-color: #FFF9F9\"> day</span><span style=\"background-color: #FFFEFE\"> and</span><span style=\"background-color: #FFF8F8\"> make</span><span style=\"background-color: #FFFEFE\"> me</span><span style=\"background-color: #FFE7E7\"> smile</span><span style=\"background-color: #FFFEFE\"> .</span><span style=\"background-color: #FFFEFE\"> if</span><span style=\"background-color: #FFFEFE\"> you</span><span style=\"background-color: #FFFCFC\"> like</span><span style=\"background-color: #FFFEFE\"> who</span><span style=\"background-color: #FFFCFC\"> s</span><span style=\"background-color: #FFFDFD\"> that</span><span style=\"background-color: #FFFEFE\"> girl</span><span style=\"background-color: #FFFEFE\"> then</span><span style=\"background-color: #FFFDFD\"> i</span><span style=\"background-color: #FFFDFD\"> d</span><span style=\"background-color: #FFFCFC\"> also</span><span style=\"background-color: #FFE4E4\"> recommend</span><span style=\"background-color: #FFFDFD\"> party</span><span style=\"background-color: #FFFEFE\"> girl</span><span style=\"background-color: #FFFEFE\"> and</span><span style=\"background-color: #FFFDFD\"> romy</span><span style=\"background-color: #FFFEFE\"> and</span><span style=\"background-color: #FFFEFE\"> michelle</span><span style=\"background-color: #FFFCFC\"> s</span><span style=\"background-color: #FFFDFD\"> high</span><span style=\"background-color: #FFFBFB\"> school</span><span style=\"background-color: #FF0000\"> reunion</span><span style=\"background-color: #FFFEFE\"> .</span><span style=\"background-color: #FFFDFD\"> <eos></span><span style=\"background-color: #FFFFFF\"> <pad></span><span style=\"background-color: #FFFFFF\"> <pad></span><span style=\"background-color: #FFFFFF\"> <pad></span><span style=\"background-color: #FFFFFF\"> <pad></span><span style=\"background-color: #FFFFFF\"> <pad></span><span style=\"background-color: #FFFFFF\"> <pad></span><span style=\"background-color: #FFFFFF\"> <pad></span><span style=\"background-color: #FFFFFF\"> <pad></span><span style=\"background-color: #FFFFFF\"> <pad></span><span style=\"background-color: #FFFFFF\"> <pad></span><span style=\"background-color: #FFFFFF\"> <pad></span><span style=\"background-color: #FFFFFF\"> <pad></span><span style=\"background-color: #FFFFFF\"> <pad></span><span style=\"background-color: #FFFFFF\"> <pad></span><span style=\"background-color: #FFFFFF\"> <pad></span><span style=\"background-color: #FFFFFF\"> <pad></span><span style=\"background-color: #FFFFFF\"> <pad></span><span style=\"background-color: #FFFFFF\"> <pad></span><span style=\"background-color: #FFFFFF\"> <pad></span><span style=\"background-color: #FFFFFF\"> <pad></span><span style=\"background-color: #FFFFFF\"> <pad></span><span style=\"background-color: #FFFFFF\"> <pad></span><span style=\"background-color: #FFFFFF\"> <pad></span><span style=\"background-color: #FFFFFF\"> <pad></span><span style=\"background-color: #FFFFFF\"> <pad></span><span style=\"background-color: #FFFFFF\"> <pad></span><span style=\"background-color: #FFFFFF\"> <pad></span><span style=\"background-color: #FFFFFF\"> <pad></span><span style=\"background-color: #FFFFFF\"> <pad></span><span style=\"background-color: #FFFFFF\"> <pad></span><span style=\"background-color: #FFFFFF\"> <pad></span><span style=\"background-color: #FFFFFF\"> <pad></span><span style=\"background-color: #FFFFFF\"> <pad></span><span style=\"background-color: #FFFFFF\"> <pad></span><span style=\"background-color: #FFFFFF\"> <pad></span><span style=\"background-color: #FFFFFF\"> <pad></span><span style=\"background-color: #FFFFFF\"> <pad></span><span style=\"background-color: #FFFFFF\"> <pad></span><span style=\"background-color: #FFFFFF\"> <pad></span><span style=\"background-color: #FFFFFF\"> <pad></span><span style=\"background-color: #FFFFFF\"> <pad></span><span style=\"background-color: #FFFFFF\"> <pad></span><span style=\"background-color: #FFFFFF\"> <pad></span><span style=\"background-color: #FFFFFF\"> <pad></span><span style=\"background-color: #FFFFFF\"> <pad></span><span style=\"background-color: #FFFFFF\"> <pad></span><span style=\"background-color: #FFFFFF\"> <pad></span><span style=\"background-color: #FFFFFF\"> <pad></span><span style=\"background-color: #FFFFFF\"> <pad></span><span style=\"background-color: #FFFFFF\"> <pad></span><span style=\"background-color: #FFFFFF\"> <pad></span><span style=\"background-color: #FFFFFF\"> <pad></span><span style=\"background-color: #FFFFFF\"> <pad></span><span style=\"background-color: #FFFFFF\"> <pad></span><span style=\"background-color: #FFFFFF\"> <pad></span><span style=\"background-color: #FFFFFF\"> <pad></span><span style=\"background-color: #FFFFFF\"> <pad></span><span style=\"background-color: #FFFFFF\"> <pad></span><span style=\"background-color: #FFFFFF\"> <pad></span><span style=\"background-color: #FFFFFF\"> <pad></span><span style=\"background-color: #FFFFFF\"> <pad></span><span style=\"background-color: #FFFFFF\"> <pad></span><span style=\"background-color: #FFFFFF\"> <pad></span><span style=\"background-color: #FFFFFF\"> <pad></span><span style=\"background-color: #FFFFFF\"> <pad></span><span style=\"background-color: #FFFFFF\"> <pad></span><span style=\"background-color: #FFFFFF\"> <pad></span><span style=\"background-color: #FFFFFF\"> <pad></span><span style=\"background-color: #FFFFFF\"> <pad></span><span style=\"background-color: #FFFFFF\"> <pad></span><span style=\"background-color: #FFFFFF\"> <pad></span><span style=\"background-color: #FFFFFF\"> <pad></span><span style=\"background-color: #FFFFFF\"> <pad></span><span style=\"background-color: #FFFFFF\"> <pad></span><br><br>[对TransformerBlock的第二段Attention进行可视化]<br><span style=\"background-color: #FFFEFE\"> <cls></span><span style=\"background-color: #FFFDFD\"> i</span><span style=\"background-color: #FFF6F6\"> have</span><span style=\"background-color: #FFFCFC\"> to</span><span style=\"background-color: #FFFDFD\"> rate</span><span style=\"background-color: #FFE8E8\"> this</span><span style=\"background-color: #FFFBFB\"> movie</span><span style=\"background-color: #FFFBFB\"> at</span><span style=\"background-color: #FFF9F9\"> a</span><span style=\"background-color: #FFF9F9\"> 10</span><span style=\"background-color: #FFFCFC\"> .</span><span style=\"background-color: #FFFDFD\"> i</span><span style=\"background-color: #FFFDFD\"> m</span><span style=\"background-color: #FFDCDC\"> sorry</span><span style=\"background-color: #FFF9F9\"> but</span><span style=\"background-color: #FFFDFD\"> i</span><span style=\"background-color: #FFFDFD\"> think</span><span style=\"background-color: #FFF0F0\"> it</span><span style=\"background-color: #FFFBFB\"> s</span><span style=\"background-color: #FF7777\"> classic</span><span style=\"background-color: #FFE3E3\"> comedy</span><span style=\"background-color: #FFFBFB\"> .</span><span style=\"background-color: #FFFCFC\"> then</span><span style=\"background-color: #FFFBFB\"> ,</span><span style=\"background-color: #FFF4F4\"> if</span><span style=\"background-color: #FFF9F9\"> you</span><span style=\"background-color: #FFFBFB\"> re</span><span style=\"background-color: #FFE5E5\"> rating</span><span style=\"background-color: #FFF4F4\"> it</span><span style=\"background-color: #FFFDFD\"> to</span><span style=\"background-color: #FFF1F1\"> other</span><span style=\"background-color: #FFFDFD\"> madonna</span><span style=\"background-color: #FFFDFD\"> movies</span><span style=\"background-color: #FFFCFC\"> .</span><span style=\"background-color: #FFFCFC\"> .</span><span style=\"background-color: #FFFBFB\"> .</span><span style=\"background-color: #FFAAAA\"> well</span><span style=\"background-color: #FFFCFC\"> ,</span><span style=\"background-color: #FFF9F9\"> what</span><span style=\"background-color: #FFF9F9\"> you</span><span style=\"background-color: #FFFAFA\"> wanna</span><span style=\"background-color: #FFFCFC\"> tell</span><span style=\"background-color: #FFFAFA\"> me</span><span style=\"background-color: #FFF4F4\"> it</span><span style=\"background-color: #FFFAFA\"> wasn</span><span style=\"background-color: #FFEDED\"> t</span><span style=\"background-color: #FFF9F9\"> her</span><span style=\"background-color: #FF4E4E\"> best</span><span style=\"background-color: #FFFDFD\"> movie</span><span style=\"background-color: #FFF4F4\"> ever</span><span style=\"background-color: #FFFBFB\"> didn</span><span style=\"background-color: #FFEAEA\"> t</span><span style=\"background-color: #FFFEFE\"> mira</span><span style=\"background-color: #FFFEFE\"> sorvino</span><span style=\"background-color: #FFEFEF\"> win</span><span style=\"background-color: #FFFAFA\"> an</span><span style=\"background-color: #FFFAFA\"> oscar</span><span style=\"background-color: #FFFEFE\"> for</span><span style=\"background-color: #FFE1E1\"> almost</span><span style=\"background-color: #FFFDFD\"> the</span><span style=\"background-color: #FFE9E9\"> same</span><span style=\"background-color: #FFF5F5\"> performance</span><span style=\"background-color: #FFF4F4\"> not</span><span style=\"background-color: #FFE7E7\"> ten</span><span style=\"background-color: #FFFDFD\"> years</span><span style=\"background-color: #FFFBFB\"> later</span><span style=\"background-color: #FFFBFB\"> please</span><span style=\"background-color: #FFFCFC\"> ,</span><span style=\"background-color: #FFEFEF\"> this</span><span style=\"background-color: #FFFCFC\"> movie</span><span style=\"background-color: #FFD1D1\"> deserves</span><span style=\"background-color: #FF3B3B\"> much</span><span style=\"background-color: #FFC7C7\"> more</span><span style=\"background-color: #FFFBFB\"> credit</span><span style=\"background-color: #FFFCFC\"> than</span><span style=\"background-color: #FFECEC\"> it</span><span style=\"background-color: #FFDCDC\"> gets</span><span style=\"background-color: #FFFBFB\"> .</span><span style=\"background-color: #FFFBFB\"> plus</span><span style=\"background-color: #FFFBFB\"> ,</span><span style=\"background-color: #FFFCFC\"> i</span><span style=\"background-color: #FFEFEF\"> like</span><span style=\"background-color: #FFFCFC\"> to</span><span style=\"background-color: #FFFDFD\"> think</span><span style=\"background-color: #FFFCFC\"> of</span><span style=\"background-color: #FFF3F3\"> it</span><span style=\"background-color: #FFFCFC\"> as</span><span style=\"background-color: #FFFBFB\"> an</span><span style=\"background-color: #FFFBFB\"> a</span><span style=\"background-color: #FFFDFD\"> <unk></span><span style=\"background-color: #FFFEFE\"> study</span><span style=\"background-color: #FFF9F9\"> into</span><span style=\"background-color: #FFFDFD\"> the</span><span style=\"background-color: #FFF6F6\"> lifestyles</span><span style=\"background-color: #FFFDFD\"> of</span><span style=\"background-color: #FFFEFE\"> the</span><span style=\"background-color: #FFF5F5\"> 80</span><span style=\"background-color: #FFFDFD\"> s</span><span style=\"background-color: #FFFCFC\"> .</span><span style=\"background-color: #FFFCFC\"> remember</span><span style=\"background-color: #FFFDFD\"> when</span><span style=\"background-color: #FFF9F9\"> you</span><span style=\"background-color: #FFFBFB\"> could</span><span style=\"background-color: #FFFEFE\"> <unk></span><span style=\"background-color: #FFFBFB\"> from</span><span style=\"background-color: #FFEEEE\"> sam</span><span style=\"background-color: #FFC0C0\"> goody</span><span style=\"background-color: #FFFDFD\"> and</span><span style=\"background-color: #FFFEFE\"> <unk></span><span style=\"background-color: #FFFDFD\"> in</span><span style=\"background-color: #FFFEFE\"> the</span><span style=\"background-color: #FFF2F2\"> same</span><span style=\"background-color: #FFFAFA\"> day</span><span style=\"background-color: #FFFCFC\"> remember</span><span style=\"background-color: #FFFDFD\"> when</span><span style=\"background-color: #FFFEFE\"> women</span><span style=\"background-color: #FFFDFD\"> wore</span><span style=\"background-color: #FFFEFE\"> <unk></span><span style=\"background-color: #FFF9F9\"> eyebrows</span><span style=\"background-color: #FFF1F1\"> proudly</span><span style=\"background-color: #FFF5F5\"> so</span><span style=\"background-color: #FFE7E7\"> it</span><span style=\"background-color: #FFFBFB\"> was</span><span style=\"background-color: #FF0000\"> no</span><span style=\"background-color: #FFF9F9\"> last</span><span style=\"background-color: #FFDCDC\"> emperor</span><span style=\"background-color: #FFFAFA\"> ,</span><span style=\"background-color: #FFEEEE\"> it</span><span style=\"background-color: #FFFDFD\"> was</span><span style=\"background-color: #FFF9F9\"> still</span><span style=\"background-color: #FF7474\"> good</span><span style=\"background-color: #FFFBFB\"> .</span><span style=\"background-color: #FFFCFC\"> there</span><span style=\"background-color: #FFD1D1\"> are</span><span style=\"background-color: #FFA1A1\"> certain</span><span style=\"background-color: #FFFBFB\"> movies</span><span style=\"background-color: #FFFBFB\"> i</span><span style=\"background-color: #FFF5F5\"> d</span><span style=\"background-color: #FFCECE\"> be</span><span style=\"background-color: #FFEBEB\"> willing</span><span style=\"background-color: #FFFCFC\"> to</span><span style=\"background-color: #FFF8F8\"> watch</span><span style=\"background-color: #FFC9C9\"> everyday</span><span style=\"background-color: #FFF9F9\"> .</span><span style=\"background-color: #FFE3E3\"> three</span><span style=\"background-color: #FFFAFA\"> ,</span><span style=\"background-color: #FFEDED\"> actually</span><span style=\"background-color: #FFFAFA\"> ,</span><span style=\"background-color: #FFECEC\"> that</span><span style=\"background-color: #FFFDFD\"> <unk></span><span style=\"background-color: #FFEBEB\"> up</span><span style=\"background-color: #FFEDED\"> my</span><span style=\"background-color: #FFF7F7\"> day</span><span style=\"background-color: #FFFDFD\"> and</span><span style=\"background-color: #FFFAFA\"> make</span><span style=\"background-color: #FFF7F7\"> me</span><span style=\"background-color: #FFF8F8\"> smile</span><span style=\"background-color: #FFF9F9\"> .</span><span style=\"background-color: #FFEEEE\"> if</span><span style=\"background-color: #FFF4F4\"> you</span><span style=\"background-color: #FFE9E9\"> like</span><span style=\"background-color: #FFFAFA\"> who</span><span style=\"background-color: #FFF9F9\"> s</span><span style=\"background-color: #FFEFEF\"> that</span><span style=\"background-color: #FFFDFD\"> girl</span><span style=\"background-color: #FFFCFC\"> then</span><span style=\"background-color: #FFFBFB\"> i</span><span style=\"background-color: #FFF3F3\"> d</span><span style=\"background-color: #FFF5F5\"> also</span><span style=\"background-color: #FFF3F3\"> recommend</span><span style=\"background-color: #FFFCFC\"> party</span><span style=\"background-color: #FFFDFD\"> girl</span><span style=\"background-color: #FFFDFD\"> and</span><span style=\"background-color: #FFFEFE\"> romy</span><span style=\"background-color: #FFFDFD\"> and</span><span style=\"background-color: #FFFCFC\"> michelle</span><span style=\"background-color: #FFF9F9\"> s</span><span style=\"background-color: #FF0F0F\"> high</span><span style=\"background-color: #FFFEFE\"> school</span><span style=\"background-color: #FFFDFD\"> reunion</span><span style=\"background-color: #FFF4F4\"> .</span><span style=\"background-color: #FFFBFB\"> <eos></span><span style=\"background-color: #FFFFFF\"> <pad></span><span style=\"background-color: #FFFFFF\"> <pad></span><span style=\"background-color: #FFFFFF\"> <pad></span><span style=\"background-color: #FFFFFF\"> <pad></span><span style=\"background-color: #FFFFFF\"> <pad></span><span style=\"background-color: #FFFFFF\"> <pad></span><span style=\"background-color: #FFFFFF\"> <pad></span><span style=\"background-color: #FFFFFF\"> <pad></span><span style=\"background-color: #FFFFFF\"> <pad></span><span style=\"background-color: #FFFFFF\"> <pad></span><span style=\"background-color: #FFFFFF\"> <pad></span><span style=\"background-color: #FFFFFF\"> <pad></span><span style=\"background-color: #FFFFFF\"> <pad></span><span style=\"background-color: #FFFFFF\"> <pad></span><span style=\"background-color: #FFFFFF\"> <pad></span><span style=\"background-color: #FFFFFF\"> <pad></span><span style=\"background-color: #FFFFFF\"> <pad></span><span style=\"background-color: #FFFFFF\"> <pad></span><span style=\"background-color: #FFFFFF\"> <pad></span><span style=\"background-color: #FFFFFF\"> <pad></span><span style=\"background-color: #FFFFFF\"> <pad></span><span style=\"background-color: #FFFFFF\"> <pad></span><span style=\"background-color: #FFFFFF\"> <pad></span><span style=\"background-color: #FFFFFF\"> <pad></span><span style=\"background-color: #FFFFFF\"> <pad></span><span style=\"background-color: #FFFFFF\"> <pad></span><span style=\"background-color: #FFFFFF\"> <pad></span><span style=\"background-color: #FFFFFF\"> <pad></span><span style=\"background-color: #FFFFFF\"> <pad></span><span style=\"background-color: #FFFFFF\"> <pad></span><span style=\"background-color: #FFFFFF\"> <pad></span><span style=\"background-color: #FFFFFF\"> <pad></span><span style=\"background-color: #FFFFFF\"> <pad></span><span style=\"background-color: #FFFFFF\"> <pad></span><span style=\"background-color: #FFFFFF\"> <pad></span><span style=\"background-color: #FFFFFF\"> <pad></span><span style=\"background-color: #FFFFFF\"> <pad></span><span style=\"background-color: #FFFFFF\"> <pad></span><span style=\"background-color: #FFFFFF\"> <pad></span><span style=\"background-color: #FFFFFF\"> <pad></span><span style=\"background-color: #FFFFFF\"> <pad></span><span style=\"background-color: #FFFFFF\"> <pad></span><span style=\"background-color: #FFFFFF\"> <pad></span><span style=\"background-color: #FFFFFF\"> <pad></span><span style=\"background-color: #FFFFFF\"> <pad></span><span style=\"background-color: #FFFFFF\"> <pad></span><span style=\"background-color: #FFFFFF\"> <pad></span><span style=\"background-color: #FFFFFF\"> <pad></span><span style=\"background-color: #FFFFFF\"> <pad></span><span style=\"background-color: #FFFFFF\"> <pad></span><span style=\"background-color: #FFFFFF\"> <pad></span><span style=\"background-color: #FFFFFF\"> <pad></span><span style=\"background-color: #FFFFFF\"> <pad></span><span style=\"background-color: #FFFFFF\"> <pad></span><span style=\"background-color: #FFFFFF\"> <pad></span><span style=\"background-color: #FFFFFF\"> <pad></span><span style=\"background-color: #FFFFFF\"> <pad></span><span style=\"background-color: #FFFFFF\"> <pad></span><span style=\"background-color: #FFFFFF\"> <pad></span><span style=\"background-color: #FFFFFF\"> <pad></span><span style=\"background-color: #FFFFFF\"> <pad></span><span style=\"background-color: #FFFFFF\"> <pad></span><span style=\"background-color: #FFFFFF\"> <pad></span><span style=\"background-color: #FFFFFF\"> <pad></span><span style=\"background-color: #FFFFFF\"> <pad></span><span style=\"background-color: #FFFFFF\"> <pad></span><span style=\"background-color: #FFFFFF\"> <pad></span><span style=\"background-color: #FFFFFF\"> <pad></span><span style=\"background-color: #FFFFFF\"> <pad></span><span style=\"background-color: #FFFFFF\"> <pad></span><span style=\"background-color: #FFFFFF\"> <pad></span><span style=\"background-color: #FFFFFF\"> <pad></span><span style=\"background-color: #FFFFFF\"> <pad></span><span style=\"background-color: #FFFFFF\"> <pad></span><br><br>"
      ],
      "text/plain": [
       "<IPython.core.display.HTML object>"
      ]
     },
     "execution_count": 11,
     "metadata": {},
     "output_type": "execute_result"
    }
   ],
   "source": [
    "index = 61  # 需要输出的数据\n",
    "html_output = mk_html(index, batch, preds, normlized_weights_1,\n",
    "                      normlized_weights_2, TEXT)  # 生成HTML\n",
    "HTML(html_output)  # 用HTML格式输出"
   ]
  },
  {
   "cell_type": "markdown",
   "metadata": {
    "pycharm": {
     "name": "#%% md\n"
    }
   },
   "source": []
  }
 ],
 "metadata": {
  "kernelspec": {
   "display_name": "Python 3 (ipykernel)",
   "language": "python",
   "name": "python3"
  },
  "language_info": {
   "codemirror_mode": {
    "name": "ipython",
    "version": 3
   },
   "file_extension": ".py",
   "mimetype": "text/x-python",
   "name": "python",
   "nbconvert_exporter": "python",
   "pygments_lexer": "ipython3",
   "version": "3.8.19"
  }
 },
 "nbformat": 4,
 "nbformat_minor": 4
}
