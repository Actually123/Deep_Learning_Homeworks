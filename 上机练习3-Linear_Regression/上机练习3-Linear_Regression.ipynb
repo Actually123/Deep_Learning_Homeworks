{
 "cells": [
  {
   "cell_type": "markdown",
   "id": "49a00d79",
   "metadata": {},
   "source": [
    "# 线性回归 boston房价预测\n",
    "导入相关包"
   ]
  },
  {
   "cell_type": "code",
   "execution_count": 1,
   "id": "94c8478a",
   "metadata": {},
   "outputs": [],
   "source": [
    "import torch\n",
    "import torch.nn as nn\n",
    "import torch.optim as optim\n",
    "import pandas as pd\n",
    "import numpy as np\n",
    "import matplotlib.pyplot as plt\n",
    "from sklearn.preprocessing import StandardScaler\n",
    "from sklearn.model_selection import train_test_split"
   ]
  },
  {
   "cell_type": "code",
   "execution_count": 2,
   "id": "ae0045f9",
   "metadata": {},
   "outputs": [
    {
     "data": {
      "text/html": [
       "<div>\n",
       "<style scoped>\n",
       "    .dataframe tbody tr th:only-of-type {\n",
       "        vertical-align: middle;\n",
       "    }\n",
       "\n",
       "    .dataframe tbody tr th {\n",
       "        vertical-align: top;\n",
       "    }\n",
       "\n",
       "    .dataframe thead th {\n",
       "        text-align: right;\n",
       "    }\n",
       "</style>\n",
       "<table border=\"1\" class=\"dataframe\">\n",
       "  <thead>\n",
       "    <tr style=\"text-align: right;\">\n",
       "      <th></th>\n",
       "      <th>CRIM</th>\n",
       "      <th>ZN</th>\n",
       "      <th>INDUS</th>\n",
       "      <th>CHAS</th>\n",
       "      <th>NOX</th>\n",
       "      <th>RM</th>\n",
       "      <th>AGE</th>\n",
       "      <th>DIS</th>\n",
       "      <th>RAD</th>\n",
       "      <th>TAX</th>\n",
       "      <th>PTRATIO</th>\n",
       "      <th>B</th>\n",
       "      <th>LSTAT</th>\n",
       "      <th>MEDV</th>\n",
       "    </tr>\n",
       "  </thead>\n",
       "  <tbody>\n",
       "    <tr>\n",
       "      <th>0</th>\n",
       "      <td>0.00632</td>\n",
       "      <td>18.0</td>\n",
       "      <td>2.31</td>\n",
       "      <td>0</td>\n",
       "      <td>0.538</td>\n",
       "      <td>6.575</td>\n",
       "      <td>65.2</td>\n",
       "      <td>4.0900</td>\n",
       "      <td>1</td>\n",
       "      <td>296</td>\n",
       "      <td>15.3</td>\n",
       "      <td>396.90</td>\n",
       "      <td>4.98</td>\n",
       "      <td>24.0</td>\n",
       "    </tr>\n",
       "    <tr>\n",
       "      <th>1</th>\n",
       "      <td>0.02731</td>\n",
       "      <td>0.0</td>\n",
       "      <td>7.07</td>\n",
       "      <td>0</td>\n",
       "      <td>0.469</td>\n",
       "      <td>6.421</td>\n",
       "      <td>78.9</td>\n",
       "      <td>4.9671</td>\n",
       "      <td>2</td>\n",
       "      <td>242</td>\n",
       "      <td>17.8</td>\n",
       "      <td>396.90</td>\n",
       "      <td>9.14</td>\n",
       "      <td>21.6</td>\n",
       "    </tr>\n",
       "    <tr>\n",
       "      <th>2</th>\n",
       "      <td>0.02729</td>\n",
       "      <td>0.0</td>\n",
       "      <td>7.07</td>\n",
       "      <td>0</td>\n",
       "      <td>0.469</td>\n",
       "      <td>7.185</td>\n",
       "      <td>61.1</td>\n",
       "      <td>4.9671</td>\n",
       "      <td>2</td>\n",
       "      <td>242</td>\n",
       "      <td>17.8</td>\n",
       "      <td>392.83</td>\n",
       "      <td>4.03</td>\n",
       "      <td>34.7</td>\n",
       "    </tr>\n",
       "    <tr>\n",
       "      <th>3</th>\n",
       "      <td>0.03237</td>\n",
       "      <td>0.0</td>\n",
       "      <td>2.18</td>\n",
       "      <td>0</td>\n",
       "      <td>0.458</td>\n",
       "      <td>6.998</td>\n",
       "      <td>45.8</td>\n",
       "      <td>6.0622</td>\n",
       "      <td>3</td>\n",
       "      <td>222</td>\n",
       "      <td>18.7</td>\n",
       "      <td>394.63</td>\n",
       "      <td>2.94</td>\n",
       "      <td>33.4</td>\n",
       "    </tr>\n",
       "    <tr>\n",
       "      <th>4</th>\n",
       "      <td>0.06905</td>\n",
       "      <td>0.0</td>\n",
       "      <td>2.18</td>\n",
       "      <td>0</td>\n",
       "      <td>0.458</td>\n",
       "      <td>7.147</td>\n",
       "      <td>54.2</td>\n",
       "      <td>6.0622</td>\n",
       "      <td>3</td>\n",
       "      <td>222</td>\n",
       "      <td>18.7</td>\n",
       "      <td>396.90</td>\n",
       "      <td>5.33</td>\n",
       "      <td>36.2</td>\n",
       "    </tr>\n",
       "  </tbody>\n",
       "</table>\n",
       "</div>"
      ],
      "text/plain": [
       "      CRIM    ZN  INDUS  CHAS    NOX     RM   AGE     DIS  RAD  TAX  PTRATIO  \\\n",
       "0  0.00632  18.0   2.31     0  0.538  6.575  65.2  4.0900    1  296     15.3   \n",
       "1  0.02731   0.0   7.07     0  0.469  6.421  78.9  4.9671    2  242     17.8   \n",
       "2  0.02729   0.0   7.07     0  0.469  7.185  61.1  4.9671    2  242     17.8   \n",
       "3  0.03237   0.0   2.18     0  0.458  6.998  45.8  6.0622    3  222     18.7   \n",
       "4  0.06905   0.0   2.18     0  0.458  7.147  54.2  6.0622    3  222     18.7   \n",
       "\n",
       "        B  LSTAT  MEDV  \n",
       "0  396.90   4.98  24.0  \n",
       "1  396.90   9.14  21.6  \n",
       "2  392.83   4.03  34.7  \n",
       "3  394.63   2.94  33.4  \n",
       "4  396.90   5.33  36.2  "
      ]
     },
     "execution_count": 2,
     "metadata": {},
     "output_type": "execute_result"
    }
   ],
   "source": [
    "# 加载csv数据集\n",
    "data = pd.read_csv(\"house_data.csv\")\n",
    "data.head()"
   ]
  },
  {
   "cell_type": "code",
   "execution_count": 3,
   "id": "09170992",
   "metadata": {},
   "outputs": [],
   "source": [
    "# 提取输入特征 (X) 和标签 (y)\n",
    "X = data.iloc[:, :-1].values\n",
    "y = data.iloc[:, -1].values.reshape(-1, 1)  # Reshape y to a column vector"
   ]
  },
  {
   "cell_type": "code",
   "execution_count": 4,
   "id": "d88c878e",
   "metadata": {},
   "outputs": [],
   "source": [
    "# 标准化输入特征，查询用法及原因\n",
    "scaler = StandardScaler()\n",
    "X = scaler.fit_transform(X)\n",
    "y = scaler.fit_transform(y)\n",
    "# fit_transform方法计算出数据集的均值和标准差，\n",
    "# 并将数据集进行标准化处理，返回标准化后的数据集\n",
    "# 原因：标准化输入特征可以提高深度学习算法的性能，\n",
    "# 加快模型的收敛速度，并且使得输入特征满足模型的要求"
   ]
  },
  {
   "cell_type": "code",
   "execution_count": 5,
   "id": "66400581",
   "metadata": {},
   "outputs": [],
   "source": [
    "# 利用train_test_split 函数将数据集划分为训练集和测试集\n",
    "X, X_test, y, y_test = train_test_split(X, y, random_state = 0)"
   ]
  },
  {
   "cell_type": "markdown",
   "id": "346e3523",
   "metadata": {},
   "source": [
    "将数据转换为 PyTorch 张量"
   ]
  },
  {
   "cell_type": "code",
   "execution_count": 6,
   "id": "266b1be3",
   "metadata": {},
   "outputs": [],
   "source": [
    "X = torch.from_numpy(X).to(torch.float32)\n",
    "X_test = torch.from_numpy(X_test).to(torch.float32)\n",
    "\n",
    "y = torch.from_numpy(y).to(torch.float32)\n",
    "y_test = torch.from_numpy(y_test).to(torch.float32)"
   ]
  },
  {
   "cell_type": "code",
   "execution_count": 7,
   "id": "d2d29ea0",
   "metadata": {},
   "outputs": [],
   "source": [
    "# 创建用于批量训练的 DataLoader(将dataset划分为每批次大小为20的数据,并以随机顺序加载)\n",
    "dataset = torch.utils.data.TensorDataset(X, y) # 将X和y合成数据集dataset\n",
    "dataloader = torch.utils.data.DataLoader(dataset, batch_size=20, shuffle=True)"
   ]
  },
  {
   "cell_type": "markdown",
   "id": "b25d1471",
   "metadata": {},
   "source": [
    "利用pytorch封装好的nn.Module创建LinearRegression模型"
   ]
  },
  {
   "cell_type": "code",
   "execution_count": 8,
   "id": "8f2eb79f",
   "metadata": {},
   "outputs": [],
   "source": [
    "# 定义一个简单的线性回归模型\n",
    "class LinearRegression(nn.Module):\n",
    "    def __init__(self, input_dim):\n",
    "        super(LinearRegression, self).__init__()\n",
    "        \n",
    "        # 定义线性回归层\n",
    "        self.linear = nn.Linear(input_dim, 1)\n",
    "        \n",
    "    def forward(self, x):\n",
    "        # 定义计算图传播\n",
    "        output = self.linear(x)\n",
    "        return output"
   ]
  },
  {
   "cell_type": "code",
   "execution_count": 9,
   "id": "d820594e",
   "metadata": {},
   "outputs": [],
   "source": [
    "# 初始化模型\n",
    "model = LinearRegression(input_dim=X.shape[1])\n",
    "\n",
    "# 定义损失函数和优化器\n",
    "criterion = nn.MSELoss()\n",
    "\n",
    "# 可以尝试多种优化方法和学习率\n",
    "optimizer = optim.SGD(model.parameters(), lr=0.001)"
   ]
  },
  {
   "cell_type": "code",
   "execution_count": 10,
   "id": "590d53a1",
   "metadata": {},
   "outputs": [
    {
     "name": "stdout",
     "output_type": "stream",
     "text": [
      "Epoch [1/10],                   Step [10], Loss: 0.6204\n",
      "Epoch [2/10],                   Step [20], Loss: 0.5440\n",
      "Epoch [2/10],                   Step [30], Loss: 0.8448\n",
      "Epoch [3/10],                   Step [40], Loss: 0.5269\n",
      "Epoch [3/10],                   Step [50], Loss: 1.0403\n",
      "Epoch [4/10],                   Step [60], Loss: 1.3687\n",
      "Epoch [4/10],                   Step [70], Loss: 1.4001\n",
      "Epoch [5/10],                   Step [80], Loss: 0.6859\n",
      "Epoch [5/10],                   Step [90], Loss: 0.7224\n",
      "Epoch [6/10],                   Step [100], Loss: 0.9359\n",
      "Epoch [6/10],                   Step [110], Loss: 0.5631\n",
      "Epoch [7/10],                   Step [120], Loss: 0.3390\n",
      "Epoch [7/10],                   Step [130], Loss: 0.2987\n",
      "Epoch [8/10],                   Step [140], Loss: 0.6041\n",
      "Epoch [8/10],                   Step [150], Loss: 1.3811\n",
      "Epoch [9/10],                   Step [160], Loss: 0.3012\n",
      "Epoch [9/10],                   Step [170], Loss: 0.4378\n",
      "Epoch [10/10],                   Step [180], Loss: 0.5579\n",
      "Epoch [10/10],                   Step [190], Loss: 0.6378\n"
     ]
    }
   ],
   "source": [
    "# 训练循环\n",
    "num_epochs = 10\n",
    "iters, train_costs = [], []\n",
    "\n",
    "for epoch in range(num_epochs):\n",
    "    for batch_X, batch_y in dataloader:\n",
    "        # # 前向传播\n",
    "        output = model(batch_X)\n",
    "        \n",
    "        # 计算loss\n",
    "        loss = criterion(output, batch_y)\n",
    "        \n",
    "        # 反向传播和优化：(1) 梯度归零\n",
    "        #               (2) 反向传播计算每个参数的梯度\n",
    "        #               (3) 通过梯度下降更新参数\n",
    "        optimizer.zero_grad()\n",
    "        loss.backward()\n",
    "        optimizer.step()\n",
    "        \n",
    "        train_costs.append(loss.item())\n",
    "\n",
    "        # 打印输出训练进度\n",
    "        if len(train_costs) % 10 == 0:\n",
    "            print(f\"Epoch [{epoch+1}/{num_epochs}], \\\n",
    "                  Step [{len(train_costs)}], Loss: {loss.item():.4f}\")"
   ]
  },
  {
   "cell_type": "markdown",
   "id": "f27a2126",
   "metadata": {},
   "source": [
    "保存模型"
   ]
  },
  {
   "cell_type": "code",
   "execution_count": 11,
   "id": "cba5d53a",
   "metadata": {},
   "outputs": [],
   "source": [
    "torch.save(model.state_dict(), 'linear.pth')"
   ]
  },
  {
   "cell_type": "markdown",
   "id": "290b93f9",
   "metadata": {},
   "source": [
    "打印输出模型参数w和b"
   ]
  },
  {
   "cell_type": "code",
   "execution_count": 12,
   "id": "9fcf06f5",
   "metadata": {},
   "outputs": [
    {
     "name": "stdout",
     "output_type": "stream",
     "text": [
      "w: [[-0.23871882 -0.09291891 -0.14103544  0.15478209 -0.13792872 -0.04069131\n",
      "  -0.09298387 -0.14509183 -0.1466938   0.08407329 -0.19768311 -0.02317551\n",
      "  -0.2508973 ]]\n",
      "b: [0.04400066]\n"
     ]
    }
   ],
   "source": [
    "# 提取模型参数\n",
    "model_params = model.state_dict()\n",
    "\n",
    "# 打印输出模型参数\n",
    "print('w:',model_params['linear.weight'].numpy())\n",
    "print('b:',model_params['linear.bias'].numpy())"
   ]
  },
  {
   "cell_type": "code",
   "execution_count": 13,
   "id": "db3fac18",
   "metadata": {},
   "outputs": [
    {
     "data": {
      "image/png": "[encoded data removed]",
      "text/plain": [
       "<Figure size 432x288 with 1 Axes>"
      ]
     },
     "metadata": {
      "needs_background": "light"
     },
     "output_type": "display_data"
    }
   ],
   "source": [
    "# 绘制训练过程\n",
    "iters = list(range(1, len(train_costs) + 1))\n",
    "plt.plot(iters, train_costs, color='red', label='training cost')\n",
    "plt.xlabel(\"Iteration\", fontsize=14)\n",
    "plt.ylabel(\"Cost\", fontsize=14)\n",
    "plt.title(\"Training Cost\", fontsize=24)\n",
    "plt.grid()\n",
    "plt.show()"
   ]
  },
  {
   "cell_type": "markdown",
   "id": "257c86ce",
   "metadata": {},
   "source": [
    "对测试集进行预测"
   ]
  },
  {
   "cell_type": "code",
   "execution_count": 14,
   "id": "802654a7",
   "metadata": {},
   "outputs": [
    {
     "data": {
      "text/plain": [
       "LinearRegression(\n",
       "  (linear): Linear(in_features=13, out_features=1, bias=True)\n",
       ")"
      ]
     },
     "execution_count": 14,
     "metadata": {},
     "output_type": "execute_result"
    }
   ],
   "source": [
    "# 设置模型为评估模式\n",
    "model.eval()"
   ]
  },
  {
   "cell_type": "code",
   "execution_count": 15,
   "id": "52477af4",
   "metadata": {},
   "outputs": [
    {
     "name": "stdout",
     "output_type": "stream",
     "text": [
      "tensor([[ 0.9189],\n",
      "        [-0.4290],\n",
      "        [ 0.9140],\n",
      "        [-1.2767],\n",
      "        [ 0.2722],\n",
      "        [ 0.1769],\n",
      "        [-0.2868],\n",
      "        [ 0.2303],\n",
      "        [ 0.4269],\n",
      "        [ 0.2324],\n",
      "        [-2.6024],\n",
      "        [-0.8996],\n",
      "        [-0.8130],\n",
      "        [-1.5295],\n",
      "        [ 1.1944],\n",
      "        [ 0.7662],\n",
      "        [-0.3070],\n",
      "        [ 0.9326],\n",
      "        [ 0.9317],\n",
      "        [ 0.4938],\n",
      "        [ 0.3810],\n",
      "        [ 0.3165],\n",
      "        [ 0.0905],\n",
      "        [ 0.5734],\n",
      "        [ 0.5662],\n",
      "        [-0.5093],\n",
      "        [-0.0993],\n",
      "        [-0.0475],\n",
      "        [ 0.7269],\n",
      "        [ 0.1476],\n",
      "        [-0.7953],\n",
      "        [-0.6962],\n",
      "        [ 0.0128],\n",
      "        [ 0.3255],\n",
      "        [ 0.6718],\n",
      "        [-0.0122],\n",
      "        [-1.5720],\n",
      "        [ 0.2481],\n",
      "        [-0.5885],\n",
      "        [-0.8502],\n",
      "        [ 0.6769],\n",
      "        [ 0.4228],\n",
      "        [ 0.7756],\n",
      "        [-0.6657],\n",
      "        [ 0.7418],\n",
      "        [ 0.4272],\n",
      "        [ 0.2522],\n",
      "        [ 0.5667],\n",
      "        [-0.5059],\n",
      "        [ 0.1900],\n",
      "        [ 0.6138],\n",
      "        [ 0.1720],\n",
      "        [ 0.4241],\n",
      "        [ 0.2927],\n",
      "        [-0.4344],\n",
      "        [ 0.4150],\n",
      "        [ 0.4529],\n",
      "        [ 0.2524],\n",
      "        [-1.4708],\n",
      "        [ 0.6207],\n",
      "        [ 0.2548],\n",
      "        [ 0.2344],\n",
      "        [ 0.7530],\n",
      "        [ 0.8455],\n",
      "        [-0.6085],\n",
      "        [ 0.9719],\n",
      "        [-0.8083],\n",
      "        [-0.0288],\n",
      "        [-0.9034],\n",
      "        [ 0.4660],\n",
      "        [ 0.2820],\n",
      "        [ 0.4524],\n",
      "        [ 0.6912],\n",
      "        [ 0.4892],\n",
      "        [-0.2541],\n",
      "        [-1.5991],\n",
      "        [ 0.5593],\n",
      "        [ 0.3071],\n",
      "        [ 0.6768],\n",
      "        [ 0.1398],\n",
      "        [ 0.5617],\n",
      "        [-0.3609],\n",
      "        [-0.5934],\n",
      "        [ 0.5801],\n",
      "        [ 0.5156],\n",
      "        [ 0.4378],\n",
      "        [ 0.6092],\n",
      "        [-0.4885],\n",
      "        [ 0.1808],\n",
      "        [-0.7309],\n",
      "        [-0.1701],\n",
      "        [-1.1025],\n",
      "        [ 0.4225],\n",
      "        [ 0.6010],\n",
      "        [ 0.1731],\n",
      "        [ 0.1934],\n",
      "        [-1.6158],\n",
      "        [ 0.3426],\n",
      "        [-0.6852],\n",
      "        [-0.0857],\n",
      "        [ 0.4600],\n",
      "        [ 0.0718],\n",
      "        [ 1.0325],\n",
      "        [ 0.4697],\n",
      "        [ 0.3512],\n",
      "        [ 0.4233],\n",
      "        [-1.4355],\n",
      "        [-0.4625],\n",
      "        [ 0.1543],\n",
      "        [ 0.6468],\n",
      "        [ 0.5778],\n",
      "        [-0.8959],\n",
      "        [ 0.0513],\n",
      "        [ 0.3167],\n",
      "        [-0.3177],\n",
      "        [ 0.7947],\n",
      "        [-1.4568],\n",
      "        [-0.2699],\n",
      "        [-1.1153],\n",
      "        [ 1.4982],\n",
      "        [ 0.8190],\n",
      "        [-0.9979],\n",
      "        [ 0.1975],\n",
      "        [ 0.2199],\n",
      "        [ 0.3459],\n",
      "        [-0.3490],\n",
      "        [ 0.4302]])\n"
     ]
    }
   ],
   "source": [
    "with torch.no_grad():\n",
    "    # 输出预测值predictions\n",
    "    predictions = model(X_test)\n",
    "    print(predictions)"
   ]
  },
  {
   "cell_type": "markdown",
   "id": "4e2be8d0",
   "metadata": {},
   "source": [
    "输出测试集的loss"
   ]
  },
  {
   "cell_type": "code",
   "execution_count": 16,
   "id": "e48d4913",
   "metadata": {},
   "outputs": [
    {
     "name": "stdout",
     "output_type": "stream",
     "text": [
      "Test_loss :0.662227\n"
     ]
    }
   ],
   "source": [
    "test_loss = criterion(predictions, y_test)\n",
    "print(f\"Test_loss :{test_loss.item():.6f}\")"
   ]
  },
  {
   "cell_type": "code",
   "execution_count": 17,
   "id": "28bb193b",
   "metadata": {
    "scrolled": true
   },
   "outputs": [
    {
     "data": {
      "image/png": "[encoded data removed]",
      "text/plain": [
       "<Figure size 432x288 with 1 Axes>"
      ]
     },
     "metadata": {
      "needs_background": "light"
     },
     "output_type": "display_data"
    }
   ],
   "source": [
    "# 绘制实际值 vs. 预测值\n",
    "plt.scatter(y_test.numpy(), predictions, color='green', label='infer result')\n",
    "plt.xlabel(\"Ground Truth\", fontsize=14)\n",
    "plt.ylabel(\"infer result\", fontsize=14)\n",
    "plt.title(\"Boston\", fontsize=24)\n",
    "plt.plot([min(y.numpy()), max(y.numpy())], [min(y.numpy()), max(y.numpy())], color='blue', linestyle='--')\n",
    "plt.grid()\n",
    "plt.show()"
   ]
  },
  {
   "cell_type": "markdown",
   "id": "06874b21",
   "metadata": {},
   "source": [
    "## 正规方程求解 $θ=(𝑋^𝑇 𝑋)^{−1} 𝑋^𝑇 𝑌$"
   ]
  },
  {
   "cell_type": "markdown",
   "id": "ee60b5b5",
   "metadata": {},
   "source": [
    "首先将x扩维，沿第二个轴，添加一列全1向量"
   ]
  },
  {
   "cell_type": "code",
   "execution_count": 18,
   "id": "794bb6a3",
   "metadata": {},
   "outputs": [
    {
     "data": {
      "text/plain": [
       "tensor([[ 1.0000, -0.3983,  0.4565,  ...,  0.2980,  0.3559,  0.8140],\n",
       "        [ 1.0000, -0.4085,  0.5853,  ...,  0.5754,  0.4411, -0.4812],\n",
       "        [ 1.0000, -0.4083,  1.2291,  ..., -0.3956,  0.3572, -0.9256],\n",
       "        ...,\n",
       "        [ 1.0000, -0.4029, -0.4877,  ..., -0.3031,  0.4148, -0.3298],\n",
       "        [ 1.0000, -0.3938, -0.4877,  ..., -0.2569,  0.3954,  0.8616],\n",
       "        [ 1.0000, -0.4043, -0.4877,  ..., -0.8579,  0.4411,  0.2855]])"
      ]
     },
     "execution_count": 18,
     "metadata": {},
     "output_type": "execute_result"
    }
   ],
   "source": [
    "X_extend = torch.ones((X.shape[0], 1), dtype=torch.float32)\n",
    "X = torch.cat((X_extend, X), dim=1)\n",
    "X"
   ]
  },
  {
   "cell_type": "markdown",
   "id": "00b35092",
   "metadata": {},
   "source": [
    "计算w，提示函数：torch.mm(), torch.linalg.inv()   {torch框架} \n",
    "或者np.dot(),np.linalg.inv()                    {Numpy框架}"
   ]
  },
  {
   "cell_type": "code",
   "execution_count": 19,
   "id": "f06fd263",
   "metadata": {},
   "outputs": [],
   "source": [
    "XT_mul_X = torch.mm(X.T, X)\n",
    "XT_mul_Y = torch.mm(X.T, y)\n",
    "sita = torch.mm(torch.linalg.inv(XT_mul_X), XT_mul_Y)"
   ]
  },
  {
   "cell_type": "markdown",
   "id": "314b19cf",
   "metadata": {},
   "source": [
    "计算预测值predict"
   ]
  },
  {
   "cell_type": "code",
   "execution_count": 20,
   "id": "1f4e81c4",
   "metadata": {},
   "outputs": [],
   "source": [
    "predict = torch.mm(X, sita)"
   ]
  },
  {
   "cell_type": "markdown",
   "id": "6a1ec16a",
   "metadata": {},
   "source": [
    "画图显示"
   ]
  },
  {
   "cell_type": "code",
   "execution_count": 21,
   "id": "4759cc09",
   "metadata": {},
   "outputs": [
    {
     "data": {
      "image/png": "[encoded data removed]",
      "text/plain": [
       "<Figure size 432x288 with 1 Axes>"
      ]
     },
     "metadata": {
      "needs_background": "light"
     },
     "output_type": "display_data"
    }
   ],
   "source": [
    "plt.scatter(y.numpy(), predict, color='green', label='infer result')\n",
    "plt.xlabel(\"Ground Truth\", fontsize=14)\n",
    "plt.ylabel(\"infer result\", fontsize=14)\n",
    "plt.title(\"Boston\", fontsize=24)\n",
    "plt.plot([min(y.numpy()), max(y.numpy())], [min(y.numpy()), max(y.numpy())], color='blue', linestyle='--')\n",
    "plt.grid()\n",
    "plt.show()"
   ]
  },
  {
   "cell_type": "markdown",
   "id": "40669bf3",
   "metadata": {},
   "source": [
    "# 附加练习\n",
    "对损失函数添加L2 L1正则化项。提示：利用model.parameters() 获取参数的值，将正则化项损失加到loss上进行优化。结合正常优化代码输出优化结果及示意图。"
   ]
  },
  {
   "cell_type": "code",
   "execution_count": 22,
   "id": "e7619453",
   "metadata": {},
   "outputs": [],
   "source": [
    "# 提取输入特征 (X1) 和标签 (y1)\n",
    "X = data.iloc[:, :-1].values\n",
    "y = data.iloc[:, -1].values.reshape(-1, 1)  # Reshape y to a column vector\n",
    "\n",
    "# 标准化输入特征\n",
    "scaler = StandardScaler()\n",
    "X = scaler.fit_transform(X)\n",
    "y = scaler.fit_transform(y)\n",
    "\n",
    "# 利用train_test_split()函数将数据集划分为训练集和测试集\n",
    "X, X_test, y, y_test = train_test_split(X, y, random_state = 0)"
   ]
  },
  {
   "cell_type": "code",
   "execution_count": 23,
   "id": "3ce08a36",
   "metadata": {},
   "outputs": [],
   "source": [
    "# 将数据转换为Pytorch张量\n",
    "X = torch.from_numpy(X).to(torch.float32)\n",
    "X_test = torch.from_numpy(X_test).to(torch.float32)\n",
    "\n",
    "y = torch.from_numpy(y).to(torch.float32)\n",
    "y_test = torch.from_numpy(y_test).to(torch.float32)\n",
    "\n",
    "# 创建用于批量训练的 DataLoader(将dataset划分为每批次大小为20的数据,并以随机顺序加载)\n",
    "dataset = torch.utils.data.TensorDataset(X, y) # 将X和y合成数据集dataset\n",
    "dataloader = torch.utils.data.DataLoader(dataset, batch_size=20, shuffle=True)"
   ]
  },
  {
   "cell_type": "code",
   "execution_count": 24,
   "id": "f7e092f9",
   "metadata": {},
   "outputs": [],
   "source": [
    "# 定义L1正则化函数\n",
    "def L1_Regularization(model, lamda_L1):\n",
    "    extra_loss = 0\n",
    "    for param in model.parameters():\n",
    "        extra_loss += lamda_L1 * torch.norm(param, 1)\n",
    "    return extra_loss\n",
    "\n",
    "# 定义L2正则化函数\n",
    "def L2_Regularization(model, lamda_L2):\n",
    "    extra_loss = 0\n",
    "    for param in model.parameters():\n",
    "        extra_loss += lamda_L2 * torch.norm(param, 2)\n",
    "    return extra_loss"
   ]
  },
  {
   "cell_type": "code",
   "execution_count": 25,
   "id": "1798a62b",
   "metadata": {},
   "outputs": [
    {
     "name": "stdout",
     "output_type": "stream",
     "text": [
      "Epoch [1/10],                   Step [10], Loss: 2.1174\n",
      "Epoch [2/10],                   Step [20], Loss: 1.3450\n",
      "Epoch [2/10],                   Step [30], Loss: 1.5359\n",
      "Epoch [3/10],                   Step [40], Loss: 1.4504\n",
      "Epoch [3/10],                   Step [50], Loss: 1.4710\n",
      "Epoch [4/10],                   Step [60], Loss: 0.7378\n",
      "Epoch [4/10],                   Step [70], Loss: 0.8947\n",
      "Epoch [5/10],                   Step [80], Loss: 0.2725\n",
      "Epoch [5/10],                   Step [90], Loss: 0.3991\n",
      "Epoch [6/10],                   Step [100], Loss: 0.5952\n",
      "Epoch [6/10],                   Step [110], Loss: 0.6999\n",
      "Epoch [7/10],                   Step [120], Loss: 0.5907\n",
      "Epoch [7/10],                   Step [130], Loss: 0.3814\n",
      "Epoch [8/10],                   Step [140], Loss: 0.2792\n",
      "Epoch [8/10],                   Step [150], Loss: 0.5353\n",
      "Epoch [9/10],                   Step [160], Loss: 0.3922\n",
      "Epoch [9/10],                   Step [170], Loss: 0.5738\n",
      "Epoch [10/10],                   Step [180], Loss: 0.4442\n",
      "Epoch [10/10],                   Step [190], Loss: 0.3989\n"
     ]
    }
   ],
   "source": [
    "# 训练循环\n",
    "num_epochs = 10\n",
    "iters, train_costs = [], []\n",
    "\n",
    "# 初始化模型\n",
    "model = LinearRegression(input_dim = X.shape[1])\n",
    "\n",
    "# 获取模型参数\n",
    "parameters = model.parameters()\n",
    "\n",
    "# 定义损失函数\n",
    "criterion = nn.MSELoss()\n",
    "\n",
    "# 定义L1和L2正则化参数\n",
    "lamda_L1 = 0.01\n",
    "lamda_L2 = 0.01\n",
    "\n",
    "# 定义优化器，增加L2正则化项\n",
    "optimizer = optim.SGD(model.parameters(), lr=0.001)\n",
    "\n",
    "for epoch in range(num_epochs):\n",
    "    for batch_X, batch_y in dataloader:\n",
    "        # 前向传播\n",
    "        output = model(batch_X)\n",
    "        \n",
    "        # 计算增加L1和L2正则项后的loss\n",
    "        # 1.计算L1和L2正则化\n",
    "        extra_L1 = L1_Regularization(model, lamda_L1)\n",
    "        extra_L2 = L2_Regularization(model, lamda_L2)\n",
    "        \n",
    "        # 2.向loss中加入L1和L2正则化项\n",
    "        loss = criterion(output, batch_y)\n",
    "        loss += (extra_L1 + extra_L2)\n",
    "        \n",
    "        # 反向传播和优化\n",
    "        optimizer.zero_grad()\n",
    "        loss.backward()\n",
    "        optimizer.step()\n",
    "        \n",
    "        train_costs.append(loss.item())\n",
    "        \n",
    "        # 打印输出训练进度\n",
    "        if len(train_costs) % 10 == 0:\n",
    "            print(f\"Epoch [{epoch+1}/{num_epochs}], \\\n",
    "                  Step [{len(train_costs)}], Loss: {loss.item():.4f}\")"
   ]
  },
  {
   "cell_type": "code",
   "execution_count": 26,
   "id": "c4ea3f8c",
   "metadata": {},
   "outputs": [],
   "source": [
    "# 保存模型\n",
    "torch.save(model.state_dict(), 'linear.pth')"
   ]
  },
  {
   "cell_type": "code",
   "execution_count": 27,
   "id": "a88a6749",
   "metadata": {},
   "outputs": [
    {
     "name": "stdout",
     "output_type": "stream",
     "text": [
      "w: [[-0.10159766 -0.09568439  0.09871829  0.16728146 -0.31876835  0.23888595\n",
      "  -0.13026586  0.09246702 -0.04047787  0.08750919 -0.24102329 -0.01454952\n",
      "  -0.00546678]]\n",
      "b: [0.15390243]\n"
     ]
    }
   ],
   "source": [
    "# 打印输出模型参数w和b\n",
    "# 提取模型参数\n",
    "model_params = model.state_dict()\n",
    "\n",
    "# 打印输出模型参数\n",
    "print('w:',model_params['linear.weight'].numpy())\n",
    "print('b:',model_params['linear.bias'].numpy())"
   ]
  },
  {
   "cell_type": "code",
   "execution_count": 28,
   "id": "1550d603",
   "metadata": {},
   "outputs": [
    {
     "data": {
      "image/png": "[encoded data removed]",
      "text/plain": [
       "<Figure size 432x288 with 1 Axes>"
      ]
     },
     "metadata": {
      "needs_background": "light"
     },
     "output_type": "display_data"
    }
   ],
   "source": [
    "# 绘制训练过程\n",
    "iters = list(range(1, len(train_costs) + 1))\n",
    "plt.plot(iters, train_costs, color='red', label='training cost')\n",
    "plt.xlabel(\"Iteration\", fontsize=14)\n",
    "plt.ylabel(\"Cost\", fontsize=14)\n",
    "plt.title(\"Training Cost\", fontsize=24)\n",
    "plt.grid()\n",
    "plt.show()"
   ]
  },
  {
   "cell_type": "code",
   "execution_count": 29,
   "id": "934364dc",
   "metadata": {},
   "outputs": [
    {
     "name": "stdout",
     "output_type": "stream",
     "text": [
      "tensor([[ 0.8723],\n",
      "        [-0.4324],\n",
      "        [ 0.9862],\n",
      "        [-1.0531],\n",
      "        [ 0.6342],\n",
      "        [-0.1868],\n",
      "        [-0.0551],\n",
      "        [-0.0686],\n",
      "        [-0.2029],\n",
      "        [-0.0477],\n",
      "        [-1.3379],\n",
      "        [-0.1861],\n",
      "        [-0.5975],\n",
      "        [-1.3401],\n",
      "        [ 1.5604],\n",
      "        [ 1.3195],\n",
      "        [ 0.1461],\n",
      "        [ 1.4471],\n",
      "        [ 0.6118],\n",
      "        [ 0.1268],\n",
      "        [ 0.2961],\n",
      "        [ 0.2596],\n",
      "        [-0.2195],\n",
      "        [ 0.5510],\n",
      "        [ 0.4387],\n",
      "        [-1.2344],\n",
      "        [-0.3213],\n",
      "        [-0.5574],\n",
      "        [ 0.9565],\n",
      "        [ 0.0475],\n",
      "        [-0.3574],\n",
      "        [-0.5440],\n",
      "        [ 0.3859],\n",
      "        [ 0.5571],\n",
      "        [ 0.3061],\n",
      "        [-0.1558],\n",
      "        [-0.8677],\n",
      "        [ 0.0701],\n",
      "        [-0.1072],\n",
      "        [-0.2313],\n",
      "        [ 1.0489],\n",
      "        [ 0.4732],\n",
      "        [ 0.7675],\n",
      "        [-0.4853],\n",
      "        [ 0.7314],\n",
      "        [ 0.4429],\n",
      "        [ 0.7805],\n",
      "        [ 0.2617],\n",
      "        [-0.8800],\n",
      "        [ 0.0403],\n",
      "        [ 0.3436],\n",
      "        [-0.0625],\n",
      "        [ 0.2228],\n",
      "        [ 1.4429],\n",
      "        [-0.4849],\n",
      "        [ 0.5835],\n",
      "        [ 0.5693],\n",
      "        [ 0.5009],\n",
      "        [-0.9222],\n",
      "        [ 0.7442],\n",
      "        [ 0.6523],\n",
      "        [ 0.1711],\n",
      "        [ 1.1006],\n",
      "        [ 0.6273],\n",
      "        [-0.2442],\n",
      "        [ 0.9144],\n",
      "        [-0.4081],\n",
      "        [ 0.5273],\n",
      "        [-0.1489],\n",
      "        [ 0.3926],\n",
      "        [ 0.5133],\n",
      "        [ 0.6730],\n",
      "        [ 0.8002],\n",
      "        [ 0.6634],\n",
      "        [ 0.2720],\n",
      "        [-1.1524],\n",
      "        [ 0.9824],\n",
      "        [ 0.4179],\n",
      "        [ 0.3260],\n",
      "        [-0.2087],\n",
      "        [ 0.8364],\n",
      "        [-0.2810],\n",
      "        [-0.7401],\n",
      "        [ 0.9264],\n",
      "        [ 1.0584],\n",
      "        [ 0.4034],\n",
      "        [ 0.3328],\n",
      "        [-0.1948],\n",
      "        [-0.2868],\n",
      "        [-0.5161],\n",
      "        [ 0.0616],\n",
      "        [-0.5174],\n",
      "        [ 0.7757],\n",
      "        [ 1.0845],\n",
      "        [-0.3587],\n",
      "        [ 0.5478],\n",
      "        [-1.3792],\n",
      "        [ 0.6331],\n",
      "        [-0.3382],\n",
      "        [ 0.0610],\n",
      "        [ 0.5138],\n",
      "        [-0.1427],\n",
      "        [ 1.0753],\n",
      "        [ 0.6614],\n",
      "        [ 0.8813],\n",
      "        [ 0.5041],\n",
      "        [-0.9760],\n",
      "        [-0.9629],\n",
      "        [-0.3195],\n",
      "        [ 0.9299],\n",
      "        [ 0.6146],\n",
      "        [-0.5035],\n",
      "        [ 0.4331],\n",
      "        [ 0.0845],\n",
      "        [ 0.2292],\n",
      "        [ 0.9527],\n",
      "        [-0.7674],\n",
      "        [-0.2844],\n",
      "        [-1.0287],\n",
      "        [ 2.0923],\n",
      "        [ 1.0524],\n",
      "        [-0.8451],\n",
      "        [ 0.3191],\n",
      "        [-0.1276],\n",
      "        [ 0.0043],\n",
      "        [-0.1682],\n",
      "        [ 0.4200]])\n"
     ]
    }
   ],
   "source": [
    "# 对测试集进行预测\n",
    "# 设置模型为评估模式\n",
    "model.eval()\n",
    "\n",
    "with torch.no_grad():\n",
    "    # 输出预测值predictions\n",
    "    predictions = model(X_test)\n",
    "    print(predictions)"
   ]
  },
  {
   "cell_type": "code",
   "execution_count": 30,
   "id": "32b96c53",
   "metadata": {},
   "outputs": [
    {
     "name": "stdout",
     "output_type": "stream",
     "text": [
      "Test_loss :0.625849\n"
     ]
    }
   ],
   "source": [
    "# 输出测试集的loss\n",
    "test_loss = criterion(predictions, y_test)\n",
    "print(f\"Test_loss :{test_loss.item():.6f}\")"
   ]
  },
  {
   "cell_type": "code",
   "execution_count": 31,
   "id": "b0e965ea",
   "metadata": {},
   "outputs": [
    {
     "data": {
      "image/png": "[encoded data removed]",
      "text/plain": [
       "<Figure size 432x288 with 1 Axes>"
      ]
     },
     "metadata": {
      "needs_background": "light"
     },
     "output_type": "display_data"
    }
   ],
   "source": [
    "# 绘制实际值 vs. 预测值\n",
    "plt.scatter(y_test.numpy(), predictions, color='green', label='infer result')\n",
    "plt.xlabel(\"Ground Truth\", fontsize=14)\n",
    "plt.ylabel(\"infer result\", fontsize=14)\n",
    "plt.title(\"Boston\", fontsize=24)\n",
    "plt.plot([min(y.numpy()), max(y.numpy())], [min(y.numpy()), max(y.numpy())], color='blue', linestyle='--')\n",
    "plt.grid()\n",
    "plt.show()"
   ]
  }
 ],
 "metadata": {
  "kernelspec": {
   "display_name": "Python 3",
   "language": "python",
   "name": "python3"
  },
  "language_info": {
   "codemirror_mode": {
    "name": "ipython",
    "version": 3
   },
   "file_extension": ".py",
   "mimetype": "text/x-python",
   "name": "python",
   "nbconvert_exporter": "python",
   "pygments_lexer": "ipython3",
   "version": "3.8.8"
  }
 },
 "nbformat": 4,
 "nbformat_minor": 5
}
