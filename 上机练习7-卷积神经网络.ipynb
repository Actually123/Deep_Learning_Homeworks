{
 "cells": [
  {
   "cell_type": "markdown",
   "id": "0aa126ef",
   "metadata": {},
   "source": [
    "# 利用VGG/GoogleNet/ResNet 等结构对CIFAR-10进行分类"
   ]
  },
  {
   "cell_type": "markdown",
   "id": "fba1ad07",
   "metadata": {},
   "source": [
    "导入相关包"
   ]
  },
  {
   "cell_type": "code",
   "execution_count": 1,
   "id": "9b83ba1e",
   "metadata": {},
   "outputs": [],
   "source": [
    "import torch\n",
    "import torch.nn.functional as F\n",
    "import torchvision as tv\n",
    "import torchvision.transforms as transforms\n",
    "import torch.nn as nn\n",
    "from torch.optim.lr_scheduler import MultiStepLR"
   ]
  },
  {
   "cell_type": "markdown",
   "id": "01c263aa",
   "metadata": {},
   "source": [
    "定义是否使用GPU"
   ]
  },
  {
   "cell_type": "code",
   "execution_count": 2,
   "id": "c2b8ed8e",
   "metadata": {},
   "outputs": [],
   "source": [
    "device = torch.device(\"cuda\" if torch.cuda.is_available() else \"cpu\")"
   ]
  },
  {
   "cell_type": "markdown",
   "id": "14739660",
   "metadata": {},
   "source": [
    "数据准备，尝试利用数据增强和归一化，\n",
    "提示：transforms.RandomCrop(),transforms.RandomHorizontalFlip(),\n",
    "transforms.Normalize()等函数\n",
    "可以设计函数获取数据的均值和方差（可选）"
   ]
  },
  {
   "cell_type": "code",
   "execution_count": 3,
   "id": "7f0155c3",
   "metadata": {},
   "outputs": [
    {
     "name": "stdout",
     "output_type": "stream",
     "text": [
      "Files already downloaded and verified\n",
      "Files already downloaded and verified\n"
     ]
    }
   ],
   "source": [
    "def get_mean_and_std(dataset):\n",
    "    '''\n",
    "        可以设计函数获取数据的均值和方差\n",
    "    '''\n",
    "    # 初始化数据均值和方差\n",
    "    mean = [0, 0, 0]\n",
    "    std = [0, 0, 0]\n",
    "    \n",
    "    # 获取数据集的图片数量\n",
    "    imgs_num = len(dataset)\n",
    "    \n",
    "    # 遍历数据集的张量和标签\n",
    "    for img, _ in dataset:\n",
    "        for i in range(3): # 遍历图片的RGB三通道\n",
    "            # 计算每个通道的均值和标准差\n",
    "            mean[i] += torch.mean(img[i, :, :])\n",
    "            std[i] += torch.std(img[i, :, :])\n",
    "            \n",
    "    data_mean = [mean[i] / imgs_num for i in range(3)]\n",
    "    data_std = [std[i] / imgs_num for i in range(3)]\n",
    "    return data_mean, data_std\n",
    "\n",
    "# 准备数据集\n",
    "trainset = tv.datasets.CIFAR10(root='/data/cifar10', train=True, download=True, \n",
    "                               transform=transforms.ToTensor())\n",
    "testset = tv.datasets.CIFAR10(root='/data/cifar10', train=False, download=True,\n",
    "                              transform=transforms.ToTensor())"
   ]
  },
  {
   "cell_type": "code",
   "execution_count": 4,
   "id": "d1261d74",
   "metadata": {
    "scrolled": true
   },
   "outputs": [
    {
     "name": "stdout",
     "output_type": "stream",
     "text": [
      "trainset:  ([tensor(0.4914), tensor(0.4822), tensor(0.4465)], [tensor(0.2023), tensor(0.1994), tensor(0.2010)])\n",
      "testset:  ([tensor(0.4942), tensor(0.4851), tensor(0.4504)], [tensor(0.2020), tensor(0.1991), tensor(0.2011)])\n"
     ]
    }
   ],
   "source": [
    "transform_train = transforms.Compose([\n",
    "    transforms.RandomCrop(32, padding=4),\n",
    "    transforms.RandomHorizontalFlip(),\n",
    "    transforms.ToTensor(),\n",
    "    transforms.Normalize(mean=get_mean_and_std(trainset)[0], std=get_mean_and_std(trainset)[1])\n",
    "])\n",
    "print(\"trainset: \", get_mean_and_std(trainset))\n",
    "\n",
    "transform_test = transforms.Compose([\n",
    "    transforms.ToTensor(),\n",
    "    transforms.Normalize(mean=get_mean_and_std(testset)[0], std=get_mean_and_std(testset)[1])\n",
    "])\n",
    "print(\"testset: \", get_mean_and_std(testset))"
   ]
  },
  {
   "cell_type": "code",
   "execution_count": 5,
   "id": "6598fc3e",
   "metadata": {},
   "outputs": [
    {
     "name": "stdout",
     "output_type": "stream",
     "text": [
      "Files already downloaded and verified\n",
      "Files already downloaded and verified\n"
     ]
    }
   ],
   "source": [
    "Batch_size = 64\n",
    "\n",
    "trainset = tv.datasets.CIFAR10(root='/data/cifar10', train=True, download=True,\n",
    "                               transform=transform_train)\n",
    "trainloader = torch.utils.data.DataLoader(trainset, batch_size=Batch_size, shuffle=True, num_workers=0)\n",
    "\n",
    "testset = tv.datasets.CIFAR10(root='/data/cifar10', train=False, download=True,\n",
    "                              transform=transform_test)\n",
    "testloader = torch.utils.data.DataLoader(testset, batch_size=Batch_size, shuffle=False, num_workers=0)"
   ]
  },
  {
   "cell_type": "markdown",
   "id": "70b45cd1",
   "metadata": {},
   "source": [
    "定义网络结构，选取VGG/googlenet/resnet 等网络结构"
   ]
  },
  {
   "cell_type": "code",
   "execution_count": 6,
   "id": "b9e20157",
   "metadata": {},
   "outputs": [],
   "source": [
    "# 定义残差块Resnet_block\n",
    "class Resnet_block(nn.Module):\n",
    "    \n",
    "    def __init__(self, in_channels, out_channels, stride=1, res=True):\n",
    "        # 调用父类的构造函数\n",
    "        super(Resnet_block, self).__init__()\n",
    "        \n",
    "        self.res = res # 是否带残差连接\n",
    "        \n",
    "        self.left = nn.Sequential(\n",
    "            nn.Conv2d(in_channels, out_channels, kernel_size=3, padding=1, bias=False),\n",
    "            nn.BatchNorm2d(out_channels),\n",
    "            nn.ReLU(inplace=True),\n",
    "            nn.Conv2d(out_channels, out_channels, kernel_size=3, padding=1, bias=False),\n",
    "            nn.BatchNorm2d(out_channels)\n",
    "        )\n",
    "        \n",
    "        if stride !=1 or in_channels!=out_channels:\n",
    "            self.short = nn.Sequential(\n",
    "                nn.Conv2d(in_channels, out_channels, kernel_size=1, bias=False),\n",
    "                nn.BatchNorm2d(out_channels)\n",
    "            )\n",
    "        else:\n",
    "            self.short = None\n",
    "            \n",
    "        self.relu = nn.Sequential(\n",
    "            nn.ReLU(inplace=True)\n",
    "        )\n",
    "            \n",
    "    def forward(self, x):\n",
    "        out = self.left(x)\n",
    "        if self.res:\n",
    "            out += self.short(x)\n",
    "        out = self.relu(out)\n",
    "        return out"
   ]
  },
  {
   "cell_type": "code",
   "execution_count": 7,
   "id": "74c83c23",
   "metadata": {},
   "outputs": [],
   "source": [
    "class YourNet(nn.Module):\n",
    "    '''\n",
    "        设计卷积神经网络，本作业中使用VGG\n",
    "    '''\n",
    "    def __init__(self, cfg=[64, 'M', 128, 'M', 256, 'M', 512, 'M'], res=True):\n",
    "        \n",
    "        # 调用父类的构造函数\n",
    "        super(YourNet, self).__init__()\n",
    "    \n",
    "        self.res = res # 是否带残差连接\n",
    "        self.cfg = cfg # 配置列表\n",
    "        self.in_channels = 3 # 输入通道数\n",
    "        self.futures = self.create_layer()\n",
    "        \n",
    "        self.classifier = nn.Sequential(nn.Dropout(0.4), nn.Linear(4*512, 10), )\n",
    "        \n",
    "    def create_layer(self):\n",
    "        layers = []\n",
    "        for i in self.cfg:\n",
    "            if i == 'M':\n",
    "                layers.append(nn.MaxPool2d(kernel_size=2, stride=2))\n",
    "            else:\n",
    "                layers.append(Resnet_block(self.in_channels, i, self.res))\n",
    "                self.in_channels = i    # 输入通道数改为上一层的输出通道数    \n",
    "        return nn.Sequential(*layers)\n",
    "    \n",
    "    def forward(self, x):\n",
    "        out = self.futures(x)\n",
    "        out = out.view(out.size(0), -1)\n",
    "        out = self.classifier(out)\n",
    "        return out"
   ]
  },
  {
   "cell_type": "markdown",
   "id": "35a7c216",
   "metadata": {},
   "source": [
    "实例化网络，尝试加载保存过的模型继续训练，torch.load()函数"
   ]
  },
  {
   "cell_type": "code",
   "execution_count": 8,
   "id": "993d8d2d",
   "metadata": {},
   "outputs": [
    {
     "data": {
      "text/plain": [
       "<All keys matched successfully>"
      ]
     },
     "execution_count": 8,
     "metadata": {},
     "output_type": "execute_result"
    }
   ],
   "source": [
    "# 实例化网络\n",
    "model = YourNet().to(device)\n",
    "model_path = 'cifar10_data.pth'\n",
    "torch.save(model.state_dict(), model_path)\n",
    "model.load_state_dict(torch.load(model_path))"
   ]
  },
  {
   "cell_type": "markdown",
   "id": "4b6ae647",
   "metadata": {},
   "source": [
    "超参数设置，定义损失函数和优化方式"
   ]
  },
  {
   "cell_type": "code",
   "execution_count": 9,
   "id": "996af2c7",
   "metadata": {},
   "outputs": [],
   "source": [
    "# 超参数设置\n",
    "LR = 0.01\n",
    "start_epoch = 0\n",
    "\n",
    "# 损失函数和优化方式\n",
    "criterion = nn.CrossEntropyLoss().to(device)\n",
    "optimizer = torch.optim.SGD(model.parameters(), momentum=0.9, lr=LR, weight_decay=5e-4)\n",
    "\n",
    "# 改变学习率\n",
    "scheduler = MultiStepLR(optimizer, milestones=[20, 40], gamma=0.1)"
   ]
  },
  {
   "cell_type": "markdown",
   "id": "2bdc53db",
   "metadata": {},
   "source": [
    "## 训练"
   ]
  },
  {
   "cell_type": "code",
   "execution_count": 10,
   "id": "877185f5",
   "metadata": {},
   "outputs": [],
   "source": [
    "def train(epoch):\n",
    "    '''\n",
    "        Your code\n",
    "    '''\n",
    "    sum_loss = 0.0\n",
    "    \n",
    "    for i, data in enumerate(trainloader, 0):\n",
    "        inputs, labels = data\n",
    "        inputs, labels = inputs.cuda(), labels.cuda()\n",
    "            \n",
    "        # 梯度清零\n",
    "        optimizer.zero_grad()\n",
    "            \n",
    "        # 前向传播，计算损失，反向传播\n",
    "        outputs = model(inputs)\n",
    "        loss = criterion(outputs, labels)\n",
    "        loss.backward()\n",
    "            \n",
    "        # 更新参数\n",
    "        optimizer.step()\n",
    "            \n",
    "        sum_loss += loss.item()\n",
    "\n",
    "    print('第{0}次训练 loss:{1:.6f}'.format(epoch+1, sum_loss/100))\n",
    "    \n",
    "    # 阶段性更新学习率\n",
    "    scheduler.step()"
   ]
  },
  {
   "cell_type": "markdown",
   "id": "ee142dad",
   "metadata": {},
   "source": [
    "## 测试\n",
    "    "
   ]
  },
  {
   "cell_type": "code",
   "execution_count": 11,
   "id": "bf751678",
   "metadata": {},
   "outputs": [],
   "source": [
    "def test(epoch):\n",
    "    '''\n",
    "        注意：保存当前训练最优模型\n",
    "    '''\n",
    "    # 切换模型为评估模式\n",
    "    model.eval()\n",
    "    \n",
    "    correct = 0\n",
    "    total = 0\n",
    "    with torch.no_grad():\n",
    "        for data in testloader:\n",
    "            images, labels = data\n",
    "            images, labels = images.cuda(), labels.cuda()\n",
    "            outputs = model(images)\n",
    "            _, predicted = torch.max(outputs.data, 1)\n",
    "            total += labels.size(0)\n",
    "            correct += (predicted == labels).sum().item()\n",
    "            \n",
    "    print('第{}次训练的准确率为:{}%'.format(epoch+1, 100*correct/total))"
   ]
  },
  {
   "cell_type": "code",
   "execution_count": 12,
   "id": "54cc80dc",
   "metadata": {
    "scrolled": true
   },
   "outputs": [
    {
     "name": "stdout",
     "output_type": "stream",
     "text": [
      "第1次训练 loss:13.746835\n",
      "第1次训练的准确率为:59.53%\n",
      "第2次训练 loss:8.368948\n",
      "第2次训练的准确率为:68.14%\n",
      "第3次训练 loss:6.511558\n",
      "第3次训练的准确率为:72.23%\n",
      "第4次训练 loss:5.570038\n",
      "第4次训练的准确率为:72.51%\n",
      "第5次训练 loss:4.978410\n",
      "第5次训练的准确率为:79.12%\n",
      "第6次训练 loss:4.502523\n",
      "第6次训练的准确率为:81.3%\n",
      "第7次训练 loss:4.162971\n",
      "第7次训练的准确率为:81.5%\n",
      "第8次训练 loss:3.898629\n",
      "第8次训练的准确率为:82.83%\n",
      "第9次训练 loss:3.659835\n",
      "第9次训练的准确率为:84.72%\n",
      "第10次训练 loss:3.465477\n",
      "第10次训练的准确率为:83.25%\n",
      "第11次训练 loss:3.274351\n",
      "第11次训练的准确率为:85.19%\n",
      "第12次训练 loss:3.146001\n",
      "第12次训练的准确率为:83.78%\n",
      "第13次训练 loss:2.997351\n",
      "第13次训练的准确率为:85.03%\n",
      "第14次训练 loss:2.890667\n",
      "第14次训练的准确率为:85.35%\n",
      "第15次训练 loss:2.733374\n",
      "第15次训练的准确率为:86.04%\n",
      "第16次训练 loss:2.701761\n",
      "第16次训练的准确率为:86.48%\n",
      "第17次训练 loss:2.609422\n",
      "第17次训练的准确率为:84.81%\n",
      "第18次训练 loss:2.536880\n",
      "第18次训练的准确率为:85.6%\n",
      "第19次训练 loss:2.439034\n",
      "第19次训练的准确率为:87.1%\n",
      "第20次训练 loss:2.386820\n",
      "第20次训练的准确率为:87.05%\n",
      "第21次训练 loss:1.739667\n",
      "第21次训练的准确率为:89.16%\n",
      "第22次训练 loss:1.591905\n",
      "第22次训练的准确率为:89.22%\n",
      "第23次训练 loss:1.531289\n",
      "第23次训练的准确率为:89.15%\n",
      "第24次训练 loss:1.495312\n",
      "第24次训练的准确率为:89.17%\n",
      "第25次训练 loss:1.453824\n",
      "第25次训练的准确率为:89.7%\n",
      "第26次训练 loss:1.421395\n",
      "第26次训练的准确率为:89.23%\n",
      "第27次训练 loss:1.412761\n",
      "第27次训练的准确率为:89.57%\n",
      "第28次训练 loss:1.410675\n",
      "第28次训练的准确率为:89.62%\n",
      "第29次训练 loss:1.355902\n",
      "第29次训练的准确率为:89.59%\n",
      "第30次训练 loss:1.368767\n",
      "第30次训练的准确率为:89.62%\n",
      "第31次训练 loss:1.340547\n",
      "第31次训练的准确率为:89.72%\n",
      "第32次训练 loss:1.318829\n",
      "第32次训练的准确率为:89.22%\n",
      "第33次训练 loss:1.311913\n",
      "第33次训练的准确率为:89.59%\n",
      "第34次训练 loss:1.293351\n",
      "第34次训练的准确率为:89.47%\n",
      "第35次训练 loss:1.270370\n",
      "第35次训练的准确率为:89.71%\n",
      "第36次训练 loss:1.258697\n",
      "第36次训练的准确率为:89.49%\n",
      "第37次训练 loss:1.244415\n",
      "第37次训练的准确率为:89.73%\n",
      "第38次训练 loss:1.240277\n",
      "第38次训练的准确率为:89.9%\n",
      "第39次训练 loss:1.202830\n",
      "第39次训练的准确率为:89.92%\n",
      "第40次训练 loss:1.178652\n",
      "第40次训练的准确率为:89.86%\n",
      "第41次训练 loss:1.116833\n",
      "第41次训练的准确率为:90.24%\n",
      "第42次训练 loss:1.090149\n",
      "第42次训练的准确率为:90.2%\n",
      "第43次训练 loss:1.064913\n",
      "第43次训练的准确率为:90.09%\n",
      "第44次训练 loss:1.079213\n",
      "第44次训练的准确率为:90.18%\n",
      "第45次训练 loss:1.066435\n",
      "第45次训练的准确率为:90.1%\n",
      "第46次训练 loss:1.076088\n",
      "第46次训练的准确率为:90.1%\n",
      "第47次训练 loss:1.071943\n",
      "第47次训练的准确率为:90.23%\n",
      "第48次训练 loss:1.068857\n",
      "第48次训练的准确率为:90.14%\n",
      "第49次训练 loss:1.058482\n",
      "第49次训练的准确率为:90.14%\n",
      "第50次训练 loss:1.066474\n",
      "第50次训练的准确率为:90.08%\n",
      "第51次训练 loss:1.065795\n",
      "第51次训练的准确率为:90.12%\n",
      "第52次训练 loss:1.072192\n",
      "第52次训练的准确率为:90.22%\n",
      "第53次训练 loss:1.054000\n",
      "第53次训练的准确率为:90.07%\n",
      "第54次训练 loss:1.053411\n",
      "第54次训练的准确率为:90.19%\n",
      "第55次训练 loss:1.048123\n",
      "第55次训练的准确率为:90.06%\n",
      "第56次训练 loss:1.062001\n",
      "第56次训练的准确率为:90.03%\n",
      "第57次训练 loss:1.039263\n",
      "第57次训练的准确率为:90.11%\n",
      "第58次训练 loss:1.043097\n",
      "第58次训练的准确率为:90.1%\n",
      "第59次训练 loss:1.047868\n",
      "第59次训练的准确率为:90.2%\n",
      "第60次训练 loss:1.048636\n",
      "第60次训练的准确率为:90.07%\n",
      "第61次训练 loss:1.040968\n",
      "第61次训练的准确率为:90.12%\n",
      "第62次训练 loss:1.040805\n",
      "第62次训练的准确率为:90.0%\n",
      "第63次训练 loss:1.034753\n",
      "第63次训练的准确率为:90.04%\n",
      "第64次训练 loss:1.042015\n",
      "第64次训练的准确率为:90.06%\n",
      "第65次训练 loss:1.032438\n",
      "第65次训练的准确率为:90.02%\n",
      "第66次训练 loss:1.038766\n",
      "第66次训练的准确率为:90.08%\n",
      "第67次训练 loss:1.027021\n",
      "第67次训练的准确率为:90.08%\n",
      "第68次训练 loss:1.029099\n",
      "第68次训练的准确率为:90.15%\n",
      "第69次训练 loss:1.021004\n",
      "第69次训练的准确率为:90.12%\n",
      "第70次训练 loss:1.017426\n",
      "第70次训练的准确率为:90.14%\n"
     ]
    }
   ],
   "source": [
    "# 训练、测试\n",
    "\n",
    "# 经过70次训练，准确率可达90%以上\n",
    "for epoch in range(start_epoch, start_epoch+70):\n",
    "    train(epoch)\n",
    "    test(epoch)"
   ]
  }
 ],
 "metadata": {
  "kernelspec": {
   "display_name": "Python 3 (ipykernel)",
   "language": "python",
   "name": "python3"
  },
  "language_info": {
   "codemirror_mode": {
    "name": "ipython",
    "version": 3
   },
   "file_extension": ".py",
   "mimetype": "text/x-python",
   "name": "python",
   "nbconvert_exporter": "python",
   "pygments_lexer": "ipython3",
   "version": "3.8.19"
  }
 },
 "nbformat": 4,
 "nbformat_minor": 5
}
